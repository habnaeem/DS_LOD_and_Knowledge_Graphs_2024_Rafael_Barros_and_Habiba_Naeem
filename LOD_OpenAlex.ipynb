{
  "nbformat": 4,
  "nbformat_minor": 0,
  "metadata": {
    "colab": {
      "provenance": [],
      "authorship_tag": "ABX9TyNPutVl+EyS0B05WKz/ZF+Z",
      "include_colab_link": true
    },
    "kernelspec": {
      "name": "python3",
      "display_name": "Python 3"
    },
    "language_info": {
      "name": "python"
    }
  },
  "cells": [
    {
      "cell_type": "markdown",
      "metadata": {
        "id": "view-in-github",
        "colab_type": "text"
      },
      "source": [
        "<a href=\"https://colab.research.google.com/github/rafabarros95/DS_LOD_and_Knowledge_Graphs_2024_Rafael_Barros_and_Habiba_Naeem/blob/main/LOD_OpenAlex.ipynb\" target=\"_parent\"><img src=\"https://colab.research.google.com/assets/colab-badge.svg\" alt=\"Open In Colab\"/></a>"
      ]
    },
    {
      "cell_type": "markdown",
      "source": [
        "# Building a Knowledge Graph with OpenAlex"
      ],
      "metadata": {
        "id": "X0wg_VVoUypO"
      }
    },
    {
      "cell_type": "markdown",
      "source": [
        "## Installing required Libraries if needed"
      ],
      "metadata": {
        "id": "1A0j_L34G3Ij"
      }
    },
    {
      "cell_type": "code",
      "source": [
        "!pip install requests neo4j"
      ],
      "metadata": {
        "colab": {
          "base_uri": "https://localhost:8080/"
        },
        "id": "rYJ12jwYG8lT",
        "outputId": "b0d19daf-f0ba-4f53-a44c-c9ad7371b567"
      },
      "execution_count": 14,
      "outputs": [
        {
          "output_type": "stream",
          "name": "stdout",
          "text": [
            "Requirement already satisfied: requests in /usr/local/lib/python3.10/dist-packages (2.32.3)\n",
            "Collecting neo4j\n",
            "  Downloading neo4j-5.27.0-py3-none-any.whl.metadata (5.9 kB)\n",
            "Requirement already satisfied: charset-normalizer<4,>=2 in /usr/local/lib/python3.10/dist-packages (from requests) (3.4.0)\n",
            "Requirement already satisfied: idna<4,>=2.5 in /usr/local/lib/python3.10/dist-packages (from requests) (3.10)\n",
            "Requirement already satisfied: urllib3<3,>=1.21.1 in /usr/local/lib/python3.10/dist-packages (from requests) (2.2.3)\n",
            "Requirement already satisfied: certifi>=2017.4.17 in /usr/local/lib/python3.10/dist-packages (from requests) (2024.12.14)\n",
            "Requirement already satisfied: pytz in /usr/local/lib/python3.10/dist-packages (from neo4j) (2024.2)\n",
            "Downloading neo4j-5.27.0-py3-none-any.whl (301 kB)\n",
            "\u001b[2K   \u001b[90m━━━━━━━━━━━━━━━━━━━━━━━━━━━━━━━━━━━━━━━━\u001b[0m \u001b[32m301.7/301.7 kB\u001b[0m \u001b[31m6.6 MB/s\u001b[0m eta \u001b[36m0:00:00\u001b[0m\n",
            "\u001b[?25hInstalling collected packages: neo4j\n",
            "Successfully installed neo4j-5.27.0\n"
          ]
        }
      ]
    },
    {
      "cell_type": "markdown",
      "source": [
        "## Imports"
      ],
      "metadata": {
        "id": "3wdYC7j8U8cE"
      }
    },
    {
      "cell_type": "code",
      "execution_count": 15,
      "metadata": {
        "id": "DMi9TsdEUpUg"
      },
      "outputs": [],
      "source": [
        "import requests\n",
        "import pandas as pd\n",
        "import networkx as nx\n",
        "import time\n",
        "from math import ceil\n",
        "from tqdm import tqdm\n"
      ]
    },
    {
      "cell_type": "markdown",
      "source": [
        "## Define Parameters for Data Exploration"
      ],
      "metadata": {
        "id": "bSCGto-JUwjm"
      }
    },
    {
      "cell_type": "code",
      "source": [
        "# OpenAlex API - URL\n",
        "BASE_URL = 'https://api.openalex.org/works'\n",
        "\n",
        "# Parameters\n",
        "PER_PAGE = 200  # Max per_page allowed by OpenAlex\n",
        "TOTAL_WORKS = 10000  # Total number of works to fetch\n",
        "MAX_PAGE = TOTAL_WORKS // PER_PAGE\n"
      ],
      "metadata": {
        "id": "Elz99OrVVgi6"
      },
      "execution_count": 1,
      "outputs": []
    },
    {
      "cell_type": "markdown",
      "source": [
        "## Fetching Data"
      ],
      "metadata": {
        "id": "Rd1nogIKXMKO"
      }
    },
    {
      "cell_type": "code",
      "source": [
        "import requests\n",
        "import json\n",
        "\n",
        "base_url = \"https://api.openalex.org/works\"\n",
        "per_page = 200\n",
        "total_needed = 10000\n",
        "\n",
        "works_data = []\n",
        "\n",
        "# Starting cursor. '*' means the first page.\n",
        "params = {\n",
        "    \"per-page\": per_page,\n",
        "    \"cursor\": \"*\",\n",
        "}\n",
        "\n",
        "while len(works_data) < total_needed:\n",
        "    try:\n",
        "        response = requests.get(base_url, params=params)\n",
        "        response.raise_for_status()  # raise an error if not 200\n",
        "        data = response.json()\n",
        "\n",
        "        new_results = data.get(\"results\", [])\n",
        "        if not new_results:\n",
        "            print(\"No more results. Stopping.\")\n",
        "            break\n",
        "\n",
        "        works_data.extend(new_results)\n",
        "\n",
        "        # Get the next_cursor from the meta block to paginate\n",
        "        next_cursor = data[\"meta\"].get(\"next_cursor\", None)\n",
        "        if not next_cursor:\n",
        "            print(\"No next_cursor found. Possibly end of data.\")\n",
        "            break\n",
        "\n",
        "        params[\"cursor\"] = next_cursor  # Update cursor\n",
        "        print(f\"Collected so far: {len(works_data)}\")\n",
        "\n",
        "    except Exception as e:\n",
        "        print(f\"Error: {e}\")\n",
        "        break\n",
        "\n",
        "# Trim if over 10k\n",
        "if len(works_data) > total_needed:\n",
        "    works_data = works_data[:total_needed]\n",
        "\n",
        "print(f\"Total works collected: {len(works_data)}\")\n"
      ],
      "metadata": {
        "colab": {
          "base_uri": "https://localhost:8080/"
        },
        "id": "oAoc_jCcX4Ty",
        "outputId": "4231e56a-f3a7-494e-b171-fa895643efdc"
      },
      "execution_count": 16,
      "outputs": [
        {
          "output_type": "stream",
          "name": "stdout",
          "text": [
            "Collected so far: 200\n",
            "Collected so far: 400\n",
            "Collected so far: 600\n",
            "Collected so far: 800\n",
            "Collected so far: 1000\n",
            "Collected so far: 1200\n",
            "Collected so far: 1400\n",
            "Collected so far: 1600\n",
            "Collected so far: 1800\n",
            "Collected so far: 2000\n",
            "Collected so far: 2200\n",
            "Collected so far: 2400\n",
            "Collected so far: 2600\n",
            "Collected so far: 2800\n",
            "Collected so far: 3000\n",
            "Collected so far: 3200\n",
            "Collected so far: 3400\n",
            "Collected so far: 3600\n",
            "Collected so far: 3800\n",
            "Collected so far: 4000\n",
            "Collected so far: 4200\n",
            "Collected so far: 4400\n",
            "Collected so far: 4600\n",
            "Collected so far: 4800\n",
            "Collected so far: 5000\n",
            "Collected so far: 5200\n",
            "Collected so far: 5400\n",
            "Collected so far: 5600\n",
            "Collected so far: 5800\n",
            "Collected so far: 6000\n",
            "Collected so far: 6200\n",
            "Collected so far: 6400\n",
            "Collected so far: 6600\n",
            "Collected so far: 6800\n",
            "Collected so far: 7000\n",
            "Collected so far: 7200\n",
            "Collected so far: 7400\n",
            "Collected so far: 7600\n",
            "Collected so far: 7800\n",
            "Collected so far: 8000\n",
            "Collected so far: 8200\n",
            "Collected so far: 8400\n",
            "Collected so far: 8600\n",
            "Collected so far: 8800\n",
            "Collected so far: 9000\n",
            "Collected so far: 9200\n",
            "Collected so far: 9400\n",
            "Collected so far: 9600\n",
            "Collected so far: 9800\n",
            "Collected so far: 10000\n",
            "Total works collected: 10000\n"
          ]
        }
      ]
    },
    {
      "cell_type": "markdown",
      "source": [
        "## Data Inspection\n"
      ],
      "metadata": {
        "id": "AzqRKSZEYoyl"
      }
    },
    {
      "cell_type": "code",
      "source": [
        "# Inspect one item to see the structure\n",
        "if len(works_data) > 0:\n",
        "    #print(json.dumps(works_data[0], indent=2))\n",
        "    print(works_data[0])\n",
        "else:\n",
        "    print(\"No data collected.\")\n",
        "\n",
        "\n"
      ],
      "metadata": {
        "colab": {
          "base_uri": "https://localhost:8080/"
        },
        "id": "VSmCH6FeYuY_",
        "outputId": "48af47cc-e8c0-4e32-d016-559801a5763b"
      },
      "execution_count": 36,
      "outputs": [
        {
          "output_type": "stream",
          "name": "stdout",
          "text": [
            "{'id': 'https://openalex.org/W1775749144', 'doi': 'https://doi.org/10.1016/s0021-9258(19)52451-6', 'title': 'PROTEIN MEASUREMENT WITH THE FOLIN PHENOL REAGENT', 'display_name': 'PROTEIN MEASUREMENT WITH THE FOLIN PHENOL REAGENT', 'publication_year': 1951, 'publication_date': '1951-11-01', 'ids': {'openalex': 'https://openalex.org/W1775749144', 'doi': 'https://doi.org/10.1016/s0021-9258(19)52451-6', 'mag': '1775749144', 'pmid': 'https://pubmed.ncbi.nlm.nih.gov/14907713'}, 'language': 'en', 'primary_location': {'is_oa': True, 'landing_page_url': 'https://doi.org/10.1016/s0021-9258(19)52451-6', 'pdf_url': None, 'source': {'id': 'https://openalex.org/S140251998', 'display_name': 'Journal of Biological Chemistry', 'issn_l': '0021-9258', 'issn': ['0021-9258', '1067-8816', '1083-351X'], 'is_oa': True, 'is_in_doaj': True, 'is_core': True, 'host_organization': 'https://openalex.org/P4310320990', 'host_organization_name': 'Elsevier BV', 'host_organization_lineage': ['https://openalex.org/P4310320990'], 'host_organization_lineage_names': ['Elsevier BV'], 'type': 'journal'}, 'license': 'cc-by', 'license_id': 'https://openalex.org/licenses/cc-by', 'version': 'publishedVersion', 'is_accepted': True, 'is_published': True}, 'type': 'article', 'type_crossref': 'journal-article', 'indexed_in': ['crossref'], 'open_access': {'is_oa': True, 'oa_status': 'hybrid', 'oa_url': 'https://doi.org/10.1016/s0021-9258(19)52451-6', 'any_repository_has_fulltext': True}, 'authorships': [{'author_position': 'first', 'author': {'id': 'https://openalex.org/A5110127684', 'display_name': 'OliverH. Lowry', 'orcid': None}, 'institutions': [{'id': 'https://openalex.org/I204465549', 'display_name': 'Washington University in St. Louis', 'ror': 'https://ror.org/01yc7t268', 'country_code': 'US', 'type': 'education', 'lineage': ['https://openalex.org/I204465549']}], 'countries': ['US'], 'is_corresponding': False, 'raw_author_name': 'OliverH. Lowry', 'raw_affiliation_strings': ['Washington University School of Medicine St. Louis, Missouri.'], 'affiliations': [{'raw_affiliation_string': 'Washington University School of Medicine St. Louis, Missouri.', 'institution_ids': ['https://openalex.org/I204465549']}]}, {'author_position': 'middle', 'author': {'id': 'https://openalex.org/A5032482932', 'display_name': 'NiraJ. Rosebrough', 'orcid': None}, 'institutions': [{'id': 'https://openalex.org/I204465549', 'display_name': 'Washington University in St. Louis', 'ror': 'https://ror.org/01yc7t268', 'country_code': 'US', 'type': 'education', 'lineage': ['https://openalex.org/I204465549']}], 'countries': ['US'], 'is_corresponding': False, 'raw_author_name': 'NiraJ. Rosebrough', 'raw_affiliation_strings': ['Washington University School of Medicine St. Louis, Missouri.'], 'affiliations': [{'raw_affiliation_string': 'Washington University School of Medicine St. Louis, Missouri.', 'institution_ids': ['https://openalex.org/I204465549']}]}, {'author_position': 'middle', 'author': {'id': 'https://openalex.org/A5004071084', 'display_name': 'A. Farr', 'orcid': None}, 'institutions': [{'id': 'https://openalex.org/I204465549', 'display_name': 'Washington University in St. Louis', 'ror': 'https://ror.org/01yc7t268', 'country_code': 'US', 'type': 'education', 'lineage': ['https://openalex.org/I204465549']}], 'countries': ['US'], 'is_corresponding': False, 'raw_author_name': 'A. Lewis Farr', 'raw_affiliation_strings': ['Washington University School of Medicine St. Louis, Missouri.'], 'affiliations': [{'raw_affiliation_string': 'Washington University School of Medicine St. Louis, Missouri.', 'institution_ids': ['https://openalex.org/I204465549']}]}, {'author_position': 'last', 'author': {'id': 'https://openalex.org/A5109894513', 'display_name': 'RoseJ. Randall', 'orcid': None}, 'institutions': [{'id': 'https://openalex.org/I204465549', 'display_name': 'Washington University in St. Louis', 'ror': 'https://ror.org/01yc7t268', 'country_code': 'US', 'type': 'education', 'lineage': ['https://openalex.org/I204465549']}], 'countries': ['US'], 'is_corresponding': False, 'raw_author_name': 'RoseJ. Randall', 'raw_affiliation_strings': ['Washington University School of Medicine St. Louis, Missouri.'], 'affiliations': [{'raw_affiliation_string': 'Washington University School of Medicine St. Louis, Missouri.', 'institution_ids': ['https://openalex.org/I204465549']}]}], 'institution_assertions': [], 'countries_distinct_count': 1, 'institutions_distinct_count': 1, 'corresponding_author_ids': [], 'corresponding_institution_ids': [], 'apc_list': {'value': 2500, 'currency': 'USD', 'value_usd': 2500, 'provenance': 'doaj'}, 'apc_paid': {'value': 2500, 'currency': 'USD', 'value_usd': 2500, 'provenance': 'doaj'}, 'fwci': 39.562, 'has_fulltext': True, 'fulltext_origin': 'pdf', 'cited_by_count': 319299, 'citation_normalized_percentile': {'value': 0.99962, 'is_in_top_1_percent': True, 'is_in_top_10_percent': True}, 'cited_by_percentile_year': {'min': 99, 'max': 100}, 'biblio': {'volume': '193', 'issue': '1', 'first_page': '265', 'last_page': '275'}, 'is_retracted': False, 'is_paratext': False, 'primary_topic': {'id': 'https://openalex.org/T10602', 'display_name': 'Glycosylation and Glycoproteins Research', 'score': 0.9678, 'subfield': {'id': 'https://openalex.org/subfields/1312', 'display_name': 'Molecular Biology'}, 'field': {'id': 'https://openalex.org/fields/13', 'display_name': 'Biochemistry, Genetics and Molecular Biology'}, 'domain': {'id': 'https://openalex.org/domains/1', 'display_name': 'Life Sciences'}}, 'topics': [{'id': 'https://openalex.org/T10602', 'display_name': 'Glycosylation and Glycoproteins Research', 'score': 0.9678, 'subfield': {'id': 'https://openalex.org/subfields/1312', 'display_name': 'Molecular Biology'}, 'field': {'id': 'https://openalex.org/fields/13', 'display_name': 'Biochemistry, Genetics and Molecular Biology'}, 'domain': {'id': 'https://openalex.org/domains/1', 'display_name': 'Life Sciences'}}, {'id': 'https://openalex.org/T11399', 'display_name': 'Muscle metabolism and nutrition', 'score': 0.951, 'subfield': {'id': 'https://openalex.org/subfields/1307', 'display_name': 'Cell Biology'}, 'field': {'id': 'https://openalex.org/fields/13', 'display_name': 'Biochemistry, Genetics and Molecular Biology'}, 'domain': {'id': 'https://openalex.org/domains/1', 'display_name': 'Life Sciences'}}, {'id': 'https://openalex.org/T14135', 'display_name': 'Cancer and biochemical research', 'score': 0.9502, 'subfield': {'id': 'https://openalex.org/subfields/1312', 'display_name': 'Molecular Biology'}, 'field': {'id': 'https://openalex.org/fields/13', 'display_name': 'Biochemistry, Genetics and Molecular Biology'}, 'domain': {'id': 'https://openalex.org/domains/1', 'display_name': 'Life Sciences'}}], 'keywords': [], 'concepts': [{'id': 'https://openalex.org/C40875361', 'wikidata': 'https://www.wikidata.org/wiki/Q2356542', 'display_name': 'Reagent', 'level': 2, 'score': 0.97429305}, {'id': 'https://openalex.org/C185592680', 'wikidata': 'https://www.wikidata.org/wiki/Q2329', 'display_name': 'Chemistry', 'level': 0, 'score': 0.8413831}, {'id': 'https://openalex.org/C2777702071', 'wikidata': 'https://www.wikidata.org/wiki/Q130336', 'display_name': 'Phenol', 'level': 2, 'score': 0.56796163}, {'id': 'https://openalex.org/C43617362', 'wikidata': 'https://www.wikidata.org/wiki/Q170050', 'display_name': 'Chromatography', 'level': 1, 'score': 0.5565455}, {'id': 'https://openalex.org/C178790620', 'wikidata': 'https://www.wikidata.org/wiki/Q11351', 'display_name': 'Organic chemistry', 'level': 1, 'score': 0.27057263}], 'mesh': [], 'locations_count': 2, 'locations': [{'is_oa': True, 'landing_page_url': 'https://doi.org/10.1016/s0021-9258(19)52451-6', 'pdf_url': None, 'source': {'id': 'https://openalex.org/S140251998', 'display_name': 'Journal of Biological Chemistry', 'issn_l': '0021-9258', 'issn': ['0021-9258', '1067-8816', '1083-351X'], 'is_oa': True, 'is_in_doaj': True, 'is_core': True, 'host_organization': 'https://openalex.org/P4310320990', 'host_organization_name': 'Elsevier BV', 'host_organization_lineage': ['https://openalex.org/P4310320990'], 'host_organization_lineage_names': ['Elsevier BV'], 'type': 'journal'}, 'license': 'cc-by', 'license_id': 'https://openalex.org/licenses/cc-by', 'version': 'publishedVersion', 'is_accepted': True, 'is_published': True}, {'is_oa': True, 'landing_page_url': 'https://www.jbc.org/article/S0021-9258(19)52451-6/pdf', 'pdf_url': 'https://www.jbc.org/article/S0021-9258(19)52451-6/pdf', 'source': None, 'license': None, 'license_id': None, 'version': 'publishedVersion', 'is_accepted': True, 'is_published': True}], 'best_oa_location': {'is_oa': True, 'landing_page_url': 'https://doi.org/10.1016/s0021-9258(19)52451-6', 'pdf_url': None, 'source': {'id': 'https://openalex.org/S140251998', 'display_name': 'Journal of Biological Chemistry', 'issn_l': '0021-9258', 'issn': ['0021-9258', '1067-8816', '1083-351X'], 'is_oa': True, 'is_in_doaj': True, 'is_core': True, 'host_organization': 'https://openalex.org/P4310320990', 'host_organization_name': 'Elsevier BV', 'host_organization_lineage': ['https://openalex.org/P4310320990'], 'host_organization_lineage_names': ['Elsevier BV'], 'type': 'journal'}, 'license': 'cc-by', 'license_id': 'https://openalex.org/licenses/cc-by', 'version': 'publishedVersion', 'is_accepted': True, 'is_published': True}, 'sustainable_development_goals': [{'id': 'https://metadata.un.org/sdg/6', 'score': 0.65, 'display_name': 'Clean water and sanitation'}], 'grants': [], 'datasets': [], 'versions': [], 'referenced_works_count': 20, 'referenced_works': ['https://openalex.org/W1507976594', 'https://openalex.org/W1515052776', 'https://openalex.org/W1535643256', 'https://openalex.org/W1540384225', 'https://openalex.org/W1557790601', 'https://openalex.org/W1573055659', 'https://openalex.org/W1576013682', 'https://openalex.org/W195762992', 'https://openalex.org/W1979011732', 'https://openalex.org/W1979607356', 'https://openalex.org/W2051330591', 'https://openalex.org/W2149417143', 'https://openalex.org/W2298123771', 'https://openalex.org/W2412728352', 'https://openalex.org/W2415297835', 'https://openalex.org/W59369663', 'https://openalex.org/W8863503', 'https://openalex.org/W89669270', 'https://openalex.org/W951165088', 'https://openalex.org/W97662572'], 'related_works': ['https://openalex.org/W4387497383', 'https://openalex.org/W2948807893', 'https://openalex.org/W2778153218', 'https://openalex.org/W2748952813', 'https://openalex.org/W2527526854', 'https://openalex.org/W2078814861', 'https://openalex.org/W2062208111', 'https://openalex.org/W1976181487', 'https://openalex.org/W170893625', 'https://openalex.org/W1531601525'], 'abstract_inverted_index': {'Since': [0], '1922': [1], 'when': [2], 'Wu': [3], 'proposed': [4], 'the': [5, 8, 13, 31, 46, 58, 76, 150, 206, 238, 244], 'use': [6], 'of': [7, 15, 20, 33, 60, 110, 115, 119, 123, 152, 158, 189, 195, 214, 240, 282], 'Folin': [9, 218, 245], 'phenol': [10, 221], 'reagent': [11, 26, 47, 222, 246], 'for': [12, 30, 72, 85, 98, 135, 149, 212], 'measurement': [14], 'proteins': [16, 34], '(l),': [17], 'a': [18, 235, 279], 'number': [19], 'modified': [21], 'analytical': [22], 'procedures': [23], 'ut.ilizing': [24], 'this': [25, 79, 241], 'have': [27], 'been': [28, 104], 'reported': [29], 'determination': [32, 151], 'in': [35, 38, 43, 112, 127, 138, 166, 175, 254, 273], 'serum': [36, 262], '(2-G),': [37], 'antigen-antibody': [39], 'precipitates': [40], '(7-9),': [41], 'and': [42, 57, 92, 117, 130, 148, 225, 287], 'insulin': [44], '(10).Although': [45], 'would': [48], 'seem': [49], 'to': [50, 95, 249, 268], 'be': [51, 96, 258, 276], 'recommended': [52], 'by': [53], 'its': [54, 64, 90, 99], 'great': [55, 70], 'sensitivity': [56], 'simplicity': [59], 'procedure': [61], 'possible': [62], 'with': [63, 106, 192, 232], 'use,': [65], 'it': [66, 102, 251], 'has': [67, 82, 103], 'not': [68], 'found': [69], 'favor': [71], 'general': [73], 'biochemical': [74], 'purposes.In': [75], 'belief': [77], 'that': [78, 89], 'reagent,': [80], 'nevertheless,': [81], 'considerable': [83], 'merit': [84], 'certain': [86], 'application,': [87], 'but': [88], 'peculiarities': [91], 'limitations': [93], 'need': [94], 'understood': [97], 'fullest': [100], 'exploitation,': [101], 'studied': [105], 'regard': [107], 't.o': [108, 234], 'effects': [109], 'variations': [111], 'pH,': [113], 'time': [114], 'reaction,': [116], 'concentration': [118], 'reactants,': [120], 'permissible': [121], 'levels': [122], 'reagents': [124], 'commonly': [125], 'used': [126], 'handling': [128], 'proteins,': [129], 'interfering': [131], 'subst.ances.Procedures': [132], 'are': [133], 'described': [134], 'measuring': [136], 'protein': [137], 'solution': [139, 281], 'or': [140, 145, 180], 'after': [141, 199], 'precipitation': [142], 'wit,h': [143], 'acids': [144], 'other': [146], 'agents,': [147], 'as': [153, 155, 208], 'little': [154], '0.2': [156], 'y': [157, 270], 'protein.': [159], 'MethodReagents-Reagent': [160], 'A,': [161], '2': [162], 'per': [163, 172, 177, 271], 'cent': [164, 173, 178], 'N&OX': [165], '0.10': [167], 'N': [168, 253], 'NaOH.Reagent': [169, 215], 'B,': [170], '0.5': [171], 'CuS04.5Hz0': [174], '1': [176, 193, 200, 252], 'sodium': [179], 'potassium': [181], 'tartrabe.Reagent': [182], 'C,': [183], 'alkaline': [184], 'copper': [185], 'solution.Mix': [186], '50': [187], 'ml.': [188, 194], 'Reagent': [190, 196, 209], 'A': [191], 'B.': [197], 'Discard': [198], 'day.Reagent': [201], 'D,': [202], 'carbonate-copper': [203], 'solution,': [204], 'is': [205], 'same': [207], 'C': [210], 'except': [211], 'omission': [213], 'E,': [216], 'diluted': [217, 263], 'reagent.Titrate': [219], 'Folin-Ciocalteu': [220], '((II),': [223], 'Eimer': [224], 'Amend,': [226], 'Fisher': [227], 'Scientific': [228], 'Company,': [229], 'New': [230], 'York)': [231], 'NaOH': [233], 'phenolphthalein': [236], 'end-point.On': [237], 'basis': [239], 'titration': [242], 'dilute': [243], '(about': [247], '2-fold)': [248], 'make': [250], 'acid.Working': [255], 'standards': [256], 'may': [257, 275], 'prepared': [259], 'from': [260], 'human': [261], 'IOO-to': [264], 'lOOO-fold': [265], '(approximately': [266], '700': [267], '70': [269], 'ml.).These': [272], 'turn': [274], 'checked': [277], 'against': [278], 'standard': [280], 'crystalline': [283], 'bovine': [284], 'albumin': [285], '(Armour': [286]}, 'cited_by_api_url': 'https://api.openalex.org/works?filter=cites:W1775749144', 'counts_by_year': [{'year': 2024, 'cited_by_count': 2589}, {'year': 2023, 'cited_by_count': 3263}, {'year': 2022, 'cited_by_count': 3492}, {'year': 2021, 'cited_by_count': 3681}, {'year': 2020, 'cited_by_count': 3737}, {'year': 2019, 'cited_by_count': 3505}, {'year': 2018, 'cited_by_count': 3462}, {'year': 2017, 'cited_by_count': 3639}, {'year': 2016, 'cited_by_count': 3929}, {'year': 2015, 'cited_by_count': 4521}, {'year': 2014, 'cited_by_count': 5022}, {'year': 2013, 'cited_by_count': 4940}, {'year': 2012, 'cited_by_count': 4962}], 'updated_date': '2024-12-24T00:35:04.846380', 'created_date': '2016-06-24'}\n"
          ]
        }
      ]
    },
    {
      "cell_type": "markdown",
      "source": [
        "## Loading the Data into Pandas Dataframe"
      ],
      "metadata": {
        "id": "OFOs1ZPJJMAT"
      }
    },
    {
      "cell_type": "code",
      "source": [
        "import pandas as pd\n",
        "\n",
        "# Prepare a list of records where each record is a flat dict\n",
        "records = []\n",
        "\n",
        "for work in works_data:\n",
        "    work_id = work[\"id\"]\n",
        "    work_title = work.get(\"title\", \"No Title\")\n",
        "    publication_year = work.get(\"publication_year\", None)\n",
        "\n",
        "    # Concepts may be a list, we'll be creating pipe-separated strings\n",
        "    concepts = work.get(\"concepts\", [])\n",
        "    concept_ids = \"|\".join([c[\"id\"] for c in concepts])\n",
        "    concept_names = \"|\".join([c[\"display_name\"] for c in concepts])\n",
        "\n",
        "    record = {\n",
        "        \"id\": work_id,\n",
        "        \"title\": work_title,\n",
        "        \"publication_year\": publication_year,\n",
        "        \"concept_ids\": concept_ids,\n",
        "        \"concept_names\": concept_names\n",
        "    }\n",
        "    records.append(record)\n",
        "\n",
        "df = pd.DataFrame(records)\n"
      ],
      "metadata": {
        "id": "rojxLtbaJTLT"
      },
      "execution_count": 20,
      "outputs": []
    },
    {
      "cell_type": "markdown",
      "source": [
        "## Checking for Inconsistency"
      ],
      "metadata": {
        "id": "IU0IbmmvJndi"
      }
    },
    {
      "cell_type": "code",
      "source": [
        "\n",
        "df.isnull().sum()\n",
        "\n"
      ],
      "metadata": {
        "colab": {
          "base_uri": "https://localhost:8080/",
          "height": 241
        },
        "id": "NWyE3eisJpkT",
        "outputId": "b30e5c3d-a165-4e17-db24-ed61f31c392f"
      },
      "execution_count": 23,
      "outputs": [
        {
          "output_type": "execute_result",
          "data": {
            "text/plain": [
              "id                   0\n",
              "title               27\n",
              "publication_year     0\n",
              "concept_ids          0\n",
              "concept_names        0\n",
              "dtype: int64"
            ],
            "text/html": [
              "<div>\n",
              "<style scoped>\n",
              "    .dataframe tbody tr th:only-of-type {\n",
              "        vertical-align: middle;\n",
              "    }\n",
              "\n",
              "    .dataframe tbody tr th {\n",
              "        vertical-align: top;\n",
              "    }\n",
              "\n",
              "    .dataframe thead th {\n",
              "        text-align: right;\n",
              "    }\n",
              "</style>\n",
              "<table border=\"1\" class=\"dataframe\">\n",
              "  <thead>\n",
              "    <tr style=\"text-align: right;\">\n",
              "      <th></th>\n",
              "      <th>0</th>\n",
              "    </tr>\n",
              "  </thead>\n",
              "  <tbody>\n",
              "    <tr>\n",
              "      <th>id</th>\n",
              "      <td>0</td>\n",
              "    </tr>\n",
              "    <tr>\n",
              "      <th>title</th>\n",
              "      <td>27</td>\n",
              "    </tr>\n",
              "    <tr>\n",
              "      <th>publication_year</th>\n",
              "      <td>0</td>\n",
              "    </tr>\n",
              "    <tr>\n",
              "      <th>concept_ids</th>\n",
              "      <td>0</td>\n",
              "    </tr>\n",
              "    <tr>\n",
              "      <th>concept_names</th>\n",
              "      <td>0</td>\n",
              "    </tr>\n",
              "  </tbody>\n",
              "</table>\n",
              "</div><br><label><b>dtype:</b> int64</label>"
            ]
          },
          "metadata": {},
          "execution_count": 23
        }
      ]
    },
    {
      "cell_type": "markdown",
      "source": [
        "## Importing into CSV File"
      ],
      "metadata": {
        "id": "bE2z7yNoK6l0"
      }
    },
    {
      "source": [
        "import csv\n",
        "\n",
        "output_filename = \"openalex_works_10000.csv\"\n",
        "\n",
        "# Open a CSV writer\n",
        "with open(output_filename, mode=\"w\", newline=\"\", encoding=\"utf-8\") as csvfile:\n",
        "    writer = csv.writer(csvfile)\n",
        "\n",
        "    # Write header row\n",
        "    writer.writerow([\"id\", \"title\", \"publication_year\", \"concept_ids\", \"concept_names\"])\n",
        "\n",
        "    for work in works_data:\n",
        "        work_id = work[\"id\"]\n",
        "        work_title = work.get(\"title\", \"No Title\")\n",
        "        publication_year = work.get(\"publication_year\", None)\n",
        "\n",
        "        # Extract concept info\n",
        "        concepts = work.get(\"concepts\", [])\n",
        "        concept_ids = \"|\".join([c[\"id\"] for c in concepts])               # e.g. \"https://openalex.org/C123|https://openalex.org/C456\"\n",
        "        concept_names = \"|\".join([c[\"display_name\"] for c in concepts])   # e.g. \"Machine Learning|Artificial Intelligence\"\n",
        "\n",
        "        # Write row\n",
        "        writer.writerow([work_id, work_title, publication_year, concept_ids, concept_names])\n",
        "\n",
        "print(f\"CSV file '{output_filename}' created successfully!\")\n"
      ],
      "cell_type": "code",
      "metadata": {
        "colab": {
          "base_uri": "https://localhost:8080/"
        },
        "id": "qlBSnrzHFJeq",
        "outputId": "1f8a8fcc-0af0-4801-93cc-9cf72c217490"
      },
      "execution_count": 26,
      "outputs": [
        {
          "output_type": "stream",
          "name": "stdout",
          "text": [
            "CSV file 'openalex_works_10000.csv' created successfully!\n"
          ]
        }
      ]
    },
    {
      "cell_type": "markdown",
      "source": [
        "## Downloading\n",
        "\n",
        "\n",
        "\n"
      ],
      "metadata": {
        "id": "CwOPlkq-b5tE"
      }
    },
    {
      "cell_type": "code",
      "source": [
        "# Downloading the csv file\n",
        "from google.colab import files\n",
        "files.download(output_filename)"
      ],
      "metadata": {
        "colab": {
          "base_uri": "https://localhost:8080/",
          "height": 17
        },
        "id": "XShTb5omLSgy",
        "outputId": "7b92c406-2e15-4f75-9f71-957ec6ec9a65"
      },
      "execution_count": 27,
      "outputs": [
        {
          "output_type": "display_data",
          "data": {
            "text/plain": [
              "<IPython.core.display.Javascript object>"
            ],
            "application/javascript": [
              "\n",
              "    async function download(id, filename, size) {\n",
              "      if (!google.colab.kernel.accessAllowed) {\n",
              "        return;\n",
              "      }\n",
              "      const div = document.createElement('div');\n",
              "      const label = document.createElement('label');\n",
              "      label.textContent = `Downloading \"${filename}\": `;\n",
              "      div.appendChild(label);\n",
              "      const progress = document.createElement('progress');\n",
              "      progress.max = size;\n",
              "      div.appendChild(progress);\n",
              "      document.body.appendChild(div);\n",
              "\n",
              "      const buffers = [];\n",
              "      let downloaded = 0;\n",
              "\n",
              "      const channel = await google.colab.kernel.comms.open(id);\n",
              "      // Send a message to notify the kernel that we're ready.\n",
              "      channel.send({})\n",
              "\n",
              "      for await (const message of channel.messages) {\n",
              "        // Send a message to notify the kernel that we're ready.\n",
              "        channel.send({})\n",
              "        if (message.buffers) {\n",
              "          for (const buffer of message.buffers) {\n",
              "            buffers.push(buffer);\n",
              "            downloaded += buffer.byteLength;\n",
              "            progress.value = downloaded;\n",
              "          }\n",
              "        }\n",
              "      }\n",
              "      const blob = new Blob(buffers, {type: 'application/binary'});\n",
              "      const a = document.createElement('a');\n",
              "      a.href = window.URL.createObjectURL(blob);\n",
              "      a.download = filename;\n",
              "      div.appendChild(a);\n",
              "      a.click();\n",
              "      div.remove();\n",
              "    }\n",
              "  "
            ]
          },
          "metadata": {}
        },
        {
          "output_type": "display_data",
          "data": {
            "text/plain": [
              "<IPython.core.display.Javascript object>"
            ],
            "application/javascript": [
              "download(\"download_9032f38a-0c14-455a-bb93-5ea813673d43\", \"openalex_works_10000.csv\", 7201676)"
            ]
          },
          "metadata": {}
        }
      ]
    },
    {
      "cell_type": "markdown",
      "source": [
        "## Checking the Authorships"
      ],
      "metadata": {
        "id": "KpU2k8niNtFr"
      }
    },
    {
      "cell_type": "code",
      "source": [
        "# Print authors for the first 5 Works as an example\n",
        "for i, work in enumerate(works_data[:5]):\n",
        "    print(f\"=== Work {i+1} ===\")\n",
        "    print(\"Work ID:\", work.get(\"id\", \"No ID\"))\n",
        "    print(\"Work Title:\", work.get(\"title\", \"No Title\"))\n",
        "\n",
        "    authorships = work.get(\"authorships\", [])\n",
        "    if not authorships:\n",
        "        print(\"  No authors listed.\")\n",
        "        continue\n",
        "\n",
        "    for a in authorships:\n",
        "        author_data = a.get(\"author\", {})\n",
        "        author_id = author_data.get(\"id\", \"No ID\")\n",
        "        author_name = author_data.get(\"display_name\", \"No Name\")\n",
        "        print(f\"  Author ID: {author_id}, Name: {author_name}\")\n",
        "    print()\n"
      ],
      "metadata": {
        "colab": {
          "base_uri": "https://localhost:8080/"
        },
        "id": "ksU7OVB1NzYC",
        "outputId": "568e62d0-ce21-4e44-af19-5f15f73e326e"
      },
      "execution_count": 30,
      "outputs": [
        {
          "output_type": "stream",
          "name": "stdout",
          "text": [
            "=== Work 1 ===\n",
            "Work ID: https://openalex.org/W1775749144\n",
            "Work Title: PROTEIN MEASUREMENT WITH THE FOLIN PHENOL REAGENT\n",
            "  Author ID: https://openalex.org/A5110127684, Name: OliverH. Lowry\n",
            "  Author ID: https://openalex.org/A5032482932, Name: NiraJ. Rosebrough\n",
            "  Author ID: https://openalex.org/A5004071084, Name: A. Farr\n",
            "  Author ID: https://openalex.org/A5109894513, Name: RoseJ. Randall\n",
            "\n",
            "=== Work 2 ===\n",
            "Work ID: https://openalex.org/W2582743722\n",
            "Work Title: R: A language and environment for statistical computing.\n",
            "  Author ID: https://openalex.org/A5087294524, Name: R Core Team\n",
            "\n",
            "=== Work 3 ===\n",
            "Work ID: https://openalex.org/W2100837269\n",
            "Work Title: Cleavage of Structural Proteins during the Assembly of the Head of Bacteriophage T4\n",
            "  Author ID: https://openalex.org/A5030122660, Name: Ulrich K. Laemmli\n",
            "\n",
            "=== Work 4 ===\n",
            "Work ID: https://openalex.org/W2128635872\n",
            "Work Title: A Rapid and Sensitive Method for the Quantitation of Microgram Quantities of Protein Utilizing the Principle of Protein-Dye Binding\n",
            "  Author ID: https://openalex.org/A5047160510, Name: Mark A. Bradford\n",
            "\n",
            "=== Work 5 ===\n",
            "Work ID: https://openalex.org/W4293247451\n",
            "Work Title: A rapid and sensitive method for the quantitation of microgram quantities of protein utilizing the principle of protein-dye binding\n",
            "  Author ID: https://openalex.org/A5021181975, Name: Marion M. Bradford\n",
            "\n"
          ]
        }
      ]
    },
    {
      "cell_type": "markdown",
      "source": [
        "## Pandas Dataframe for Authors"
      ],
      "metadata": {
        "id": "o_GzE6KlOGMb"
      }
    },
    {
      "cell_type": "code",
      "source": [
        "import pandas as pd\n",
        "\n",
        "author_records = []\n",
        "\n",
        "for work in works_data:\n",
        "    work_id = work.get(\"id\", \"No Work ID\")\n",
        "    work_title = work.get(\"title\", \"No Title\")\n",
        "\n",
        "    authorships = work.get(\"authorships\", [])\n",
        "    for auth in authorships:\n",
        "        author_data = auth.get(\"author\", {})\n",
        "        author_id = author_data.get(\"id\", \"No Author ID\")\n",
        "        author_name = author_data.get(\"display_name\", \"Unknown Author\")\n",
        "\n",
        "        # Some works also have \"author_position\" in the authorship object\n",
        "        author_position = auth.get(\"author_position\", None)\n",
        "\n",
        "        # Build a row (dictionary)\n",
        "        row = {\n",
        "            \"work_id\": work_id,\n",
        "            \"work_title\": work_title,\n",
        "            \"author_id\": author_id,\n",
        "            \"author_name\": author_name,\n",
        "            \"author_position\": author_position\n",
        "        }\n",
        "        author_records.append(row)\n",
        "\n",
        "# Convert to a DataFrame\n",
        "df_authors = pd.DataFrame(author_records)\n",
        "df_authors.head(10)\n"
      ],
      "metadata": {
        "colab": {
          "base_uri": "https://localhost:8080/",
          "height": 363
        },
        "id": "m96VvtajOJbS",
        "outputId": "662955ec-7f79-42ea-ba78-d51874bd2f5e"
      },
      "execution_count": 31,
      "outputs": [
        {
          "output_type": "execute_result",
          "data": {
            "text/plain": [
              "                            work_id  \\\n",
              "0  https://openalex.org/W1775749144   \n",
              "1  https://openalex.org/W1775749144   \n",
              "2  https://openalex.org/W1775749144   \n",
              "3  https://openalex.org/W1775749144   \n",
              "4  https://openalex.org/W2582743722   \n",
              "5  https://openalex.org/W2100837269   \n",
              "6  https://openalex.org/W2128635872   \n",
              "7  https://openalex.org/W4293247451   \n",
              "8  https://openalex.org/W2194775991   \n",
              "9  https://openalex.org/W2194775991   \n",
              "\n",
              "                                          work_title  \\\n",
              "0  PROTEIN MEASUREMENT WITH THE FOLIN PHENOL REAGENT   \n",
              "1  PROTEIN MEASUREMENT WITH THE FOLIN PHENOL REAGENT   \n",
              "2  PROTEIN MEASUREMENT WITH THE FOLIN PHENOL REAGENT   \n",
              "3  PROTEIN MEASUREMENT WITH THE FOLIN PHENOL REAGENT   \n",
              "4  R: A language and environment for statistical ...   \n",
              "5  Cleavage of Structural Proteins during the Ass...   \n",
              "6  A Rapid and Sensitive Method for the Quantitat...   \n",
              "7  A rapid and sensitive method for the quantitat...   \n",
              "8       Deep Residual Learning for Image Recognition   \n",
              "9       Deep Residual Learning for Image Recognition   \n",
              "\n",
              "                          author_id         author_name author_position  \n",
              "0  https://openalex.org/A5110127684      OliverH. Lowry           first  \n",
              "1  https://openalex.org/A5032482932   NiraJ. Rosebrough          middle  \n",
              "2  https://openalex.org/A5004071084             A. Farr          middle  \n",
              "3  https://openalex.org/A5109894513      RoseJ. Randall            last  \n",
              "4  https://openalex.org/A5087294524         R Core Team           first  \n",
              "5  https://openalex.org/A5030122660   Ulrich K. Laemmli           first  \n",
              "6  https://openalex.org/A5047160510    Mark A. Bradford           first  \n",
              "7  https://openalex.org/A5021181975  Marion M. Bradford           first  \n",
              "8  https://openalex.org/A5100700361          Kaiming He           first  \n",
              "9  https://openalex.org/A5100362465       Xiangyu Zhang          middle  "
            ],
            "text/html": [
              "\n",
              "  <div id=\"df-83a69723-3940-4978-bd1e-51da37cb9242\" class=\"colab-df-container\">\n",
              "    <div>\n",
              "<style scoped>\n",
              "    .dataframe tbody tr th:only-of-type {\n",
              "        vertical-align: middle;\n",
              "    }\n",
              "\n",
              "    .dataframe tbody tr th {\n",
              "        vertical-align: top;\n",
              "    }\n",
              "\n",
              "    .dataframe thead th {\n",
              "        text-align: right;\n",
              "    }\n",
              "</style>\n",
              "<table border=\"1\" class=\"dataframe\">\n",
              "  <thead>\n",
              "    <tr style=\"text-align: right;\">\n",
              "      <th></th>\n",
              "      <th>work_id</th>\n",
              "      <th>work_title</th>\n",
              "      <th>author_id</th>\n",
              "      <th>author_name</th>\n",
              "      <th>author_position</th>\n",
              "    </tr>\n",
              "  </thead>\n",
              "  <tbody>\n",
              "    <tr>\n",
              "      <th>0</th>\n",
              "      <td>https://openalex.org/W1775749144</td>\n",
              "      <td>PROTEIN MEASUREMENT WITH THE FOLIN PHENOL REAGENT</td>\n",
              "      <td>https://openalex.org/A5110127684</td>\n",
              "      <td>OliverH. Lowry</td>\n",
              "      <td>first</td>\n",
              "    </tr>\n",
              "    <tr>\n",
              "      <th>1</th>\n",
              "      <td>https://openalex.org/W1775749144</td>\n",
              "      <td>PROTEIN MEASUREMENT WITH THE FOLIN PHENOL REAGENT</td>\n",
              "      <td>https://openalex.org/A5032482932</td>\n",
              "      <td>NiraJ. Rosebrough</td>\n",
              "      <td>middle</td>\n",
              "    </tr>\n",
              "    <tr>\n",
              "      <th>2</th>\n",
              "      <td>https://openalex.org/W1775749144</td>\n",
              "      <td>PROTEIN MEASUREMENT WITH THE FOLIN PHENOL REAGENT</td>\n",
              "      <td>https://openalex.org/A5004071084</td>\n",
              "      <td>A. Farr</td>\n",
              "      <td>middle</td>\n",
              "    </tr>\n",
              "    <tr>\n",
              "      <th>3</th>\n",
              "      <td>https://openalex.org/W1775749144</td>\n",
              "      <td>PROTEIN MEASUREMENT WITH THE FOLIN PHENOL REAGENT</td>\n",
              "      <td>https://openalex.org/A5109894513</td>\n",
              "      <td>RoseJ. Randall</td>\n",
              "      <td>last</td>\n",
              "    </tr>\n",
              "    <tr>\n",
              "      <th>4</th>\n",
              "      <td>https://openalex.org/W2582743722</td>\n",
              "      <td>R: A language and environment for statistical ...</td>\n",
              "      <td>https://openalex.org/A5087294524</td>\n",
              "      <td>R Core Team</td>\n",
              "      <td>first</td>\n",
              "    </tr>\n",
              "    <tr>\n",
              "      <th>5</th>\n",
              "      <td>https://openalex.org/W2100837269</td>\n",
              "      <td>Cleavage of Structural Proteins during the Ass...</td>\n",
              "      <td>https://openalex.org/A5030122660</td>\n",
              "      <td>Ulrich K. Laemmli</td>\n",
              "      <td>first</td>\n",
              "    </tr>\n",
              "    <tr>\n",
              "      <th>6</th>\n",
              "      <td>https://openalex.org/W2128635872</td>\n",
              "      <td>A Rapid and Sensitive Method for the Quantitat...</td>\n",
              "      <td>https://openalex.org/A5047160510</td>\n",
              "      <td>Mark A. Bradford</td>\n",
              "      <td>first</td>\n",
              "    </tr>\n",
              "    <tr>\n",
              "      <th>7</th>\n",
              "      <td>https://openalex.org/W4293247451</td>\n",
              "      <td>A rapid and sensitive method for the quantitat...</td>\n",
              "      <td>https://openalex.org/A5021181975</td>\n",
              "      <td>Marion M. Bradford</td>\n",
              "      <td>first</td>\n",
              "    </tr>\n",
              "    <tr>\n",
              "      <th>8</th>\n",
              "      <td>https://openalex.org/W2194775991</td>\n",
              "      <td>Deep Residual Learning for Image Recognition</td>\n",
              "      <td>https://openalex.org/A5100700361</td>\n",
              "      <td>Kaiming He</td>\n",
              "      <td>first</td>\n",
              "    </tr>\n",
              "    <tr>\n",
              "      <th>9</th>\n",
              "      <td>https://openalex.org/W2194775991</td>\n",
              "      <td>Deep Residual Learning for Image Recognition</td>\n",
              "      <td>https://openalex.org/A5100362465</td>\n",
              "      <td>Xiangyu Zhang</td>\n",
              "      <td>middle</td>\n",
              "    </tr>\n",
              "  </tbody>\n",
              "</table>\n",
              "</div>\n",
              "    <div class=\"colab-df-buttons\">\n",
              "\n",
              "  <div class=\"colab-df-container\">\n",
              "    <button class=\"colab-df-convert\" onclick=\"convertToInteractive('df-83a69723-3940-4978-bd1e-51da37cb9242')\"\n",
              "            title=\"Convert this dataframe to an interactive table.\"\n",
              "            style=\"display:none;\">\n",
              "\n",
              "  <svg xmlns=\"http://www.w3.org/2000/svg\" height=\"24px\" viewBox=\"0 -960 960 960\">\n",
              "    <path d=\"M120-120v-720h720v720H120Zm60-500h600v-160H180v160Zm220 220h160v-160H400v160Zm0 220h160v-160H400v160ZM180-400h160v-160H180v160Zm440 0h160v-160H620v160ZM180-180h160v-160H180v160Zm440 0h160v-160H620v160Z\"/>\n",
              "  </svg>\n",
              "    </button>\n",
              "\n",
              "  <style>\n",
              "    .colab-df-container {\n",
              "      display:flex;\n",
              "      gap: 12px;\n",
              "    }\n",
              "\n",
              "    .colab-df-convert {\n",
              "      background-color: #E8F0FE;\n",
              "      border: none;\n",
              "      border-radius: 50%;\n",
              "      cursor: pointer;\n",
              "      display: none;\n",
              "      fill: #1967D2;\n",
              "      height: 32px;\n",
              "      padding: 0 0 0 0;\n",
              "      width: 32px;\n",
              "    }\n",
              "\n",
              "    .colab-df-convert:hover {\n",
              "      background-color: #E2EBFA;\n",
              "      box-shadow: 0px 1px 2px rgba(60, 64, 67, 0.3), 0px 1px 3px 1px rgba(60, 64, 67, 0.15);\n",
              "      fill: #174EA6;\n",
              "    }\n",
              "\n",
              "    .colab-df-buttons div {\n",
              "      margin-bottom: 4px;\n",
              "    }\n",
              "\n",
              "    [theme=dark] .colab-df-convert {\n",
              "      background-color: #3B4455;\n",
              "      fill: #D2E3FC;\n",
              "    }\n",
              "\n",
              "    [theme=dark] .colab-df-convert:hover {\n",
              "      background-color: #434B5C;\n",
              "      box-shadow: 0px 1px 3px 1px rgba(0, 0, 0, 0.15);\n",
              "      filter: drop-shadow(0px 1px 2px rgba(0, 0, 0, 0.3));\n",
              "      fill: #FFFFFF;\n",
              "    }\n",
              "  </style>\n",
              "\n",
              "    <script>\n",
              "      const buttonEl =\n",
              "        document.querySelector('#df-83a69723-3940-4978-bd1e-51da37cb9242 button.colab-df-convert');\n",
              "      buttonEl.style.display =\n",
              "        google.colab.kernel.accessAllowed ? 'block' : 'none';\n",
              "\n",
              "      async function convertToInteractive(key) {\n",
              "        const element = document.querySelector('#df-83a69723-3940-4978-bd1e-51da37cb9242');\n",
              "        const dataTable =\n",
              "          await google.colab.kernel.invokeFunction('convertToInteractive',\n",
              "                                                    [key], {});\n",
              "        if (!dataTable) return;\n",
              "\n",
              "        const docLinkHtml = 'Like what you see? Visit the ' +\n",
              "          '<a target=\"_blank\" href=https://colab.research.google.com/notebooks/data_table.ipynb>data table notebook</a>'\n",
              "          + ' to learn more about interactive tables.';\n",
              "        element.innerHTML = '';\n",
              "        dataTable['output_type'] = 'display_data';\n",
              "        await google.colab.output.renderOutput(dataTable, element);\n",
              "        const docLink = document.createElement('div');\n",
              "        docLink.innerHTML = docLinkHtml;\n",
              "        element.appendChild(docLink);\n",
              "      }\n",
              "    </script>\n",
              "  </div>\n",
              "\n",
              "\n",
              "<div id=\"df-3105a6b2-45c4-4450-97ad-ffc2462e27b1\">\n",
              "  <button class=\"colab-df-quickchart\" onclick=\"quickchart('df-3105a6b2-45c4-4450-97ad-ffc2462e27b1')\"\n",
              "            title=\"Suggest charts\"\n",
              "            style=\"display:none;\">\n",
              "\n",
              "<svg xmlns=\"http://www.w3.org/2000/svg\" height=\"24px\"viewBox=\"0 0 24 24\"\n",
              "     width=\"24px\">\n",
              "    <g>\n",
              "        <path d=\"M19 3H5c-1.1 0-2 .9-2 2v14c0 1.1.9 2 2 2h14c1.1 0 2-.9 2-2V5c0-1.1-.9-2-2-2zM9 17H7v-7h2v7zm4 0h-2V7h2v10zm4 0h-2v-4h2v4z\"/>\n",
              "    </g>\n",
              "</svg>\n",
              "  </button>\n",
              "\n",
              "<style>\n",
              "  .colab-df-quickchart {\n",
              "      --bg-color: #E8F0FE;\n",
              "      --fill-color: #1967D2;\n",
              "      --hover-bg-color: #E2EBFA;\n",
              "      --hover-fill-color: #174EA6;\n",
              "      --disabled-fill-color: #AAA;\n",
              "      --disabled-bg-color: #DDD;\n",
              "  }\n",
              "\n",
              "  [theme=dark] .colab-df-quickchart {\n",
              "      --bg-color: #3B4455;\n",
              "      --fill-color: #D2E3FC;\n",
              "      --hover-bg-color: #434B5C;\n",
              "      --hover-fill-color: #FFFFFF;\n",
              "      --disabled-bg-color: #3B4455;\n",
              "      --disabled-fill-color: #666;\n",
              "  }\n",
              "\n",
              "  .colab-df-quickchart {\n",
              "    background-color: var(--bg-color);\n",
              "    border: none;\n",
              "    border-radius: 50%;\n",
              "    cursor: pointer;\n",
              "    display: none;\n",
              "    fill: var(--fill-color);\n",
              "    height: 32px;\n",
              "    padding: 0;\n",
              "    width: 32px;\n",
              "  }\n",
              "\n",
              "  .colab-df-quickchart:hover {\n",
              "    background-color: var(--hover-bg-color);\n",
              "    box-shadow: 0 1px 2px rgba(60, 64, 67, 0.3), 0 1px 3px 1px rgba(60, 64, 67, 0.15);\n",
              "    fill: var(--button-hover-fill-color);\n",
              "  }\n",
              "\n",
              "  .colab-df-quickchart-complete:disabled,\n",
              "  .colab-df-quickchart-complete:disabled:hover {\n",
              "    background-color: var(--disabled-bg-color);\n",
              "    fill: var(--disabled-fill-color);\n",
              "    box-shadow: none;\n",
              "  }\n",
              "\n",
              "  .colab-df-spinner {\n",
              "    border: 2px solid var(--fill-color);\n",
              "    border-color: transparent;\n",
              "    border-bottom-color: var(--fill-color);\n",
              "    animation:\n",
              "      spin 1s steps(1) infinite;\n",
              "  }\n",
              "\n",
              "  @keyframes spin {\n",
              "    0% {\n",
              "      border-color: transparent;\n",
              "      border-bottom-color: var(--fill-color);\n",
              "      border-left-color: var(--fill-color);\n",
              "    }\n",
              "    20% {\n",
              "      border-color: transparent;\n",
              "      border-left-color: var(--fill-color);\n",
              "      border-top-color: var(--fill-color);\n",
              "    }\n",
              "    30% {\n",
              "      border-color: transparent;\n",
              "      border-left-color: var(--fill-color);\n",
              "      border-top-color: var(--fill-color);\n",
              "      border-right-color: var(--fill-color);\n",
              "    }\n",
              "    40% {\n",
              "      border-color: transparent;\n",
              "      border-right-color: var(--fill-color);\n",
              "      border-top-color: var(--fill-color);\n",
              "    }\n",
              "    60% {\n",
              "      border-color: transparent;\n",
              "      border-right-color: var(--fill-color);\n",
              "    }\n",
              "    80% {\n",
              "      border-color: transparent;\n",
              "      border-right-color: var(--fill-color);\n",
              "      border-bottom-color: var(--fill-color);\n",
              "    }\n",
              "    90% {\n",
              "      border-color: transparent;\n",
              "      border-bottom-color: var(--fill-color);\n",
              "    }\n",
              "  }\n",
              "</style>\n",
              "\n",
              "  <script>\n",
              "    async function quickchart(key) {\n",
              "      const quickchartButtonEl =\n",
              "        document.querySelector('#' + key + ' button');\n",
              "      quickchartButtonEl.disabled = true;  // To prevent multiple clicks.\n",
              "      quickchartButtonEl.classList.add('colab-df-spinner');\n",
              "      try {\n",
              "        const charts = await google.colab.kernel.invokeFunction(\n",
              "            'suggestCharts', [key], {});\n",
              "      } catch (error) {\n",
              "        console.error('Error during call to suggestCharts:', error);\n",
              "      }\n",
              "      quickchartButtonEl.classList.remove('colab-df-spinner');\n",
              "      quickchartButtonEl.classList.add('colab-df-quickchart-complete');\n",
              "    }\n",
              "    (() => {\n",
              "      let quickchartButtonEl =\n",
              "        document.querySelector('#df-3105a6b2-45c4-4450-97ad-ffc2462e27b1 button');\n",
              "      quickchartButtonEl.style.display =\n",
              "        google.colab.kernel.accessAllowed ? 'block' : 'none';\n",
              "    })();\n",
              "  </script>\n",
              "</div>\n",
              "\n",
              "    </div>\n",
              "  </div>\n"
            ],
            "application/vnd.google.colaboratory.intrinsic+json": {
              "type": "dataframe",
              "variable_name": "df_authors",
              "summary": "{\n  \"name\": \"df_authors\",\n  \"rows\": 50529,\n  \"fields\": [\n    {\n      \"column\": \"work_id\",\n      \"properties\": {\n        \"dtype\": \"category\",\n        \"num_unique_values\": 9741,\n        \"samples\": [\n          \"https://openalex.org/W2144985796\",\n          \"https://openalex.org/W1524573041\",\n          \"https://openalex.org/W1974809694\"\n        ],\n        \"semantic_type\": \"\",\n        \"description\": \"\"\n      }\n    },\n    {\n      \"column\": \"work_title\",\n      \"properties\": {\n        \"dtype\": \"category\",\n        \"num_unique_values\": 9357,\n        \"samples\": [\n          \"The Epidemiology of Major Depressive Disorder\",\n          \"Foundations of Social Theory\",\n          \"A SENSITIVITY ANALYSIS OF CROSS-COUNTRY GROWTH REGRESSIONS\"\n        ],\n        \"semantic_type\": \"\",\n        \"description\": \"\"\n      }\n    },\n    {\n      \"column\": \"author_id\",\n      \"properties\": {\n        \"dtype\": \"string\",\n        \"num_unique_values\": 37222,\n        \"samples\": [\n          \"https://openalex.org/A5057937754\",\n          \"https://openalex.org/A5064842246\",\n          \"https://openalex.org/A5031758990\"\n        ],\n        \"semantic_type\": \"\",\n        \"description\": \"\"\n      }\n    },\n    {\n      \"column\": \"author_name\",\n      \"properties\": {\n        \"dtype\": \"string\",\n        \"num_unique_values\": 36314,\n        \"samples\": [\n          \"Mary I. Dobbins\",\n          \"Dean E. McNulty\",\n          \"Hal S. Stern\"\n        ],\n        \"semantic_type\": \"\",\n        \"description\": \"\"\n      }\n    },\n    {\n      \"column\": \"author_position\",\n      \"properties\": {\n        \"dtype\": \"category\",\n        \"num_unique_values\": 3,\n        \"samples\": [\n          \"first\",\n          \"middle\",\n          \"last\"\n        ],\n        \"semantic_type\": \"\",\n        \"description\": \"\"\n      }\n    }\n  ]\n}"
            }
          },
          "metadata": {},
          "execution_count": 31
        }
      ]
    },
    {
      "cell_type": "markdown",
      "source": [],
      "metadata": {
        "id": "hKmPG5cwOOvD"
      }
    },
    {
      "cell_type": "markdown",
      "source": [
        "## Inspecting the df.head()"
      ],
      "metadata": {
        "id": "IKmzUxAEORnf"
      }
    },
    {
      "cell_type": "code",
      "source": [
        "df_authors.info()\n",
        "df_authors.head(5)  # see the top 5 rows\n"
      ],
      "metadata": {
        "colab": {
          "base_uri": "https://localhost:8080/",
          "height": 414
        },
        "id": "9T2M-cf_OYQT",
        "outputId": "bb7d83be-fe3c-473c-b238-20e2b962d89c"
      },
      "execution_count": 32,
      "outputs": [
        {
          "output_type": "stream",
          "name": "stdout",
          "text": [
            "<class 'pandas.core.frame.DataFrame'>\n",
            "RangeIndex: 50529 entries, 0 to 50528\n",
            "Data columns (total 5 columns):\n",
            " #   Column           Non-Null Count  Dtype \n",
            "---  ------           --------------  ----- \n",
            " 0   work_id          50529 non-null  object\n",
            " 1   work_title       50465 non-null  object\n",
            " 2   author_id        50529 non-null  object\n",
            " 3   author_name      50529 non-null  object\n",
            " 4   author_position  50529 non-null  object\n",
            "dtypes: object(5)\n",
            "memory usage: 1.9+ MB\n"
          ]
        },
        {
          "output_type": "execute_result",
          "data": {
            "text/plain": [
              "                            work_id  \\\n",
              "0  https://openalex.org/W1775749144   \n",
              "1  https://openalex.org/W1775749144   \n",
              "2  https://openalex.org/W1775749144   \n",
              "3  https://openalex.org/W1775749144   \n",
              "4  https://openalex.org/W2582743722   \n",
              "\n",
              "                                          work_title  \\\n",
              "0  PROTEIN MEASUREMENT WITH THE FOLIN PHENOL REAGENT   \n",
              "1  PROTEIN MEASUREMENT WITH THE FOLIN PHENOL REAGENT   \n",
              "2  PROTEIN MEASUREMENT WITH THE FOLIN PHENOL REAGENT   \n",
              "3  PROTEIN MEASUREMENT WITH THE FOLIN PHENOL REAGENT   \n",
              "4  R: A language and environment for statistical ...   \n",
              "\n",
              "                          author_id        author_name author_position  \n",
              "0  https://openalex.org/A5110127684     OliverH. Lowry           first  \n",
              "1  https://openalex.org/A5032482932  NiraJ. Rosebrough          middle  \n",
              "2  https://openalex.org/A5004071084            A. Farr          middle  \n",
              "3  https://openalex.org/A5109894513     RoseJ. Randall            last  \n",
              "4  https://openalex.org/A5087294524        R Core Team           first  "
            ],
            "text/html": [
              "\n",
              "  <div id=\"df-abc594f4-5a74-43e2-b0a3-c553334ed807\" class=\"colab-df-container\">\n",
              "    <div>\n",
              "<style scoped>\n",
              "    .dataframe tbody tr th:only-of-type {\n",
              "        vertical-align: middle;\n",
              "    }\n",
              "\n",
              "    .dataframe tbody tr th {\n",
              "        vertical-align: top;\n",
              "    }\n",
              "\n",
              "    .dataframe thead th {\n",
              "        text-align: right;\n",
              "    }\n",
              "</style>\n",
              "<table border=\"1\" class=\"dataframe\">\n",
              "  <thead>\n",
              "    <tr style=\"text-align: right;\">\n",
              "      <th></th>\n",
              "      <th>work_id</th>\n",
              "      <th>work_title</th>\n",
              "      <th>author_id</th>\n",
              "      <th>author_name</th>\n",
              "      <th>author_position</th>\n",
              "    </tr>\n",
              "  </thead>\n",
              "  <tbody>\n",
              "    <tr>\n",
              "      <th>0</th>\n",
              "      <td>https://openalex.org/W1775749144</td>\n",
              "      <td>PROTEIN MEASUREMENT WITH THE FOLIN PHENOL REAGENT</td>\n",
              "      <td>https://openalex.org/A5110127684</td>\n",
              "      <td>OliverH. Lowry</td>\n",
              "      <td>first</td>\n",
              "    </tr>\n",
              "    <tr>\n",
              "      <th>1</th>\n",
              "      <td>https://openalex.org/W1775749144</td>\n",
              "      <td>PROTEIN MEASUREMENT WITH THE FOLIN PHENOL REAGENT</td>\n",
              "      <td>https://openalex.org/A5032482932</td>\n",
              "      <td>NiraJ. Rosebrough</td>\n",
              "      <td>middle</td>\n",
              "    </tr>\n",
              "    <tr>\n",
              "      <th>2</th>\n",
              "      <td>https://openalex.org/W1775749144</td>\n",
              "      <td>PROTEIN MEASUREMENT WITH THE FOLIN PHENOL REAGENT</td>\n",
              "      <td>https://openalex.org/A5004071084</td>\n",
              "      <td>A. Farr</td>\n",
              "      <td>middle</td>\n",
              "    </tr>\n",
              "    <tr>\n",
              "      <th>3</th>\n",
              "      <td>https://openalex.org/W1775749144</td>\n",
              "      <td>PROTEIN MEASUREMENT WITH THE FOLIN PHENOL REAGENT</td>\n",
              "      <td>https://openalex.org/A5109894513</td>\n",
              "      <td>RoseJ. Randall</td>\n",
              "      <td>last</td>\n",
              "    </tr>\n",
              "    <tr>\n",
              "      <th>4</th>\n",
              "      <td>https://openalex.org/W2582743722</td>\n",
              "      <td>R: A language and environment for statistical ...</td>\n",
              "      <td>https://openalex.org/A5087294524</td>\n",
              "      <td>R Core Team</td>\n",
              "      <td>first</td>\n",
              "    </tr>\n",
              "  </tbody>\n",
              "</table>\n",
              "</div>\n",
              "    <div class=\"colab-df-buttons\">\n",
              "\n",
              "  <div class=\"colab-df-container\">\n",
              "    <button class=\"colab-df-convert\" onclick=\"convertToInteractive('df-abc594f4-5a74-43e2-b0a3-c553334ed807')\"\n",
              "            title=\"Convert this dataframe to an interactive table.\"\n",
              "            style=\"display:none;\">\n",
              "\n",
              "  <svg xmlns=\"http://www.w3.org/2000/svg\" height=\"24px\" viewBox=\"0 -960 960 960\">\n",
              "    <path d=\"M120-120v-720h720v720H120Zm60-500h600v-160H180v160Zm220 220h160v-160H400v160Zm0 220h160v-160H400v160ZM180-400h160v-160H180v160Zm440 0h160v-160H620v160ZM180-180h160v-160H180v160Zm440 0h160v-160H620v160Z\"/>\n",
              "  </svg>\n",
              "    </button>\n",
              "\n",
              "  <style>\n",
              "    .colab-df-container {\n",
              "      display:flex;\n",
              "      gap: 12px;\n",
              "    }\n",
              "\n",
              "    .colab-df-convert {\n",
              "      background-color: #E8F0FE;\n",
              "      border: none;\n",
              "      border-radius: 50%;\n",
              "      cursor: pointer;\n",
              "      display: none;\n",
              "      fill: #1967D2;\n",
              "      height: 32px;\n",
              "      padding: 0 0 0 0;\n",
              "      width: 32px;\n",
              "    }\n",
              "\n",
              "    .colab-df-convert:hover {\n",
              "      background-color: #E2EBFA;\n",
              "      box-shadow: 0px 1px 2px rgba(60, 64, 67, 0.3), 0px 1px 3px 1px rgba(60, 64, 67, 0.15);\n",
              "      fill: #174EA6;\n",
              "    }\n",
              "\n",
              "    .colab-df-buttons div {\n",
              "      margin-bottom: 4px;\n",
              "    }\n",
              "\n",
              "    [theme=dark] .colab-df-convert {\n",
              "      background-color: #3B4455;\n",
              "      fill: #D2E3FC;\n",
              "    }\n",
              "\n",
              "    [theme=dark] .colab-df-convert:hover {\n",
              "      background-color: #434B5C;\n",
              "      box-shadow: 0px 1px 3px 1px rgba(0, 0, 0, 0.15);\n",
              "      filter: drop-shadow(0px 1px 2px rgba(0, 0, 0, 0.3));\n",
              "      fill: #FFFFFF;\n",
              "    }\n",
              "  </style>\n",
              "\n",
              "    <script>\n",
              "      const buttonEl =\n",
              "        document.querySelector('#df-abc594f4-5a74-43e2-b0a3-c553334ed807 button.colab-df-convert');\n",
              "      buttonEl.style.display =\n",
              "        google.colab.kernel.accessAllowed ? 'block' : 'none';\n",
              "\n",
              "      async function convertToInteractive(key) {\n",
              "        const element = document.querySelector('#df-abc594f4-5a74-43e2-b0a3-c553334ed807');\n",
              "        const dataTable =\n",
              "          await google.colab.kernel.invokeFunction('convertToInteractive',\n",
              "                                                    [key], {});\n",
              "        if (!dataTable) return;\n",
              "\n",
              "        const docLinkHtml = 'Like what you see? Visit the ' +\n",
              "          '<a target=\"_blank\" href=https://colab.research.google.com/notebooks/data_table.ipynb>data table notebook</a>'\n",
              "          + ' to learn more about interactive tables.';\n",
              "        element.innerHTML = '';\n",
              "        dataTable['output_type'] = 'display_data';\n",
              "        await google.colab.output.renderOutput(dataTable, element);\n",
              "        const docLink = document.createElement('div');\n",
              "        docLink.innerHTML = docLinkHtml;\n",
              "        element.appendChild(docLink);\n",
              "      }\n",
              "    </script>\n",
              "  </div>\n",
              "\n",
              "\n",
              "<div id=\"df-c57460a1-e96a-4839-904a-fb61ea77ba08\">\n",
              "  <button class=\"colab-df-quickchart\" onclick=\"quickchart('df-c57460a1-e96a-4839-904a-fb61ea77ba08')\"\n",
              "            title=\"Suggest charts\"\n",
              "            style=\"display:none;\">\n",
              "\n",
              "<svg xmlns=\"http://www.w3.org/2000/svg\" height=\"24px\"viewBox=\"0 0 24 24\"\n",
              "     width=\"24px\">\n",
              "    <g>\n",
              "        <path d=\"M19 3H5c-1.1 0-2 .9-2 2v14c0 1.1.9 2 2 2h14c1.1 0 2-.9 2-2V5c0-1.1-.9-2-2-2zM9 17H7v-7h2v7zm4 0h-2V7h2v10zm4 0h-2v-4h2v4z\"/>\n",
              "    </g>\n",
              "</svg>\n",
              "  </button>\n",
              "\n",
              "<style>\n",
              "  .colab-df-quickchart {\n",
              "      --bg-color: #E8F0FE;\n",
              "      --fill-color: #1967D2;\n",
              "      --hover-bg-color: #E2EBFA;\n",
              "      --hover-fill-color: #174EA6;\n",
              "      --disabled-fill-color: #AAA;\n",
              "      --disabled-bg-color: #DDD;\n",
              "  }\n",
              "\n",
              "  [theme=dark] .colab-df-quickchart {\n",
              "      --bg-color: #3B4455;\n",
              "      --fill-color: #D2E3FC;\n",
              "      --hover-bg-color: #434B5C;\n",
              "      --hover-fill-color: #FFFFFF;\n",
              "      --disabled-bg-color: #3B4455;\n",
              "      --disabled-fill-color: #666;\n",
              "  }\n",
              "\n",
              "  .colab-df-quickchart {\n",
              "    background-color: var(--bg-color);\n",
              "    border: none;\n",
              "    border-radius: 50%;\n",
              "    cursor: pointer;\n",
              "    display: none;\n",
              "    fill: var(--fill-color);\n",
              "    height: 32px;\n",
              "    padding: 0;\n",
              "    width: 32px;\n",
              "  }\n",
              "\n",
              "  .colab-df-quickchart:hover {\n",
              "    background-color: var(--hover-bg-color);\n",
              "    box-shadow: 0 1px 2px rgba(60, 64, 67, 0.3), 0 1px 3px 1px rgba(60, 64, 67, 0.15);\n",
              "    fill: var(--button-hover-fill-color);\n",
              "  }\n",
              "\n",
              "  .colab-df-quickchart-complete:disabled,\n",
              "  .colab-df-quickchart-complete:disabled:hover {\n",
              "    background-color: var(--disabled-bg-color);\n",
              "    fill: var(--disabled-fill-color);\n",
              "    box-shadow: none;\n",
              "  }\n",
              "\n",
              "  .colab-df-spinner {\n",
              "    border: 2px solid var(--fill-color);\n",
              "    border-color: transparent;\n",
              "    border-bottom-color: var(--fill-color);\n",
              "    animation:\n",
              "      spin 1s steps(1) infinite;\n",
              "  }\n",
              "\n",
              "  @keyframes spin {\n",
              "    0% {\n",
              "      border-color: transparent;\n",
              "      border-bottom-color: var(--fill-color);\n",
              "      border-left-color: var(--fill-color);\n",
              "    }\n",
              "    20% {\n",
              "      border-color: transparent;\n",
              "      border-left-color: var(--fill-color);\n",
              "      border-top-color: var(--fill-color);\n",
              "    }\n",
              "    30% {\n",
              "      border-color: transparent;\n",
              "      border-left-color: var(--fill-color);\n",
              "      border-top-color: var(--fill-color);\n",
              "      border-right-color: var(--fill-color);\n",
              "    }\n",
              "    40% {\n",
              "      border-color: transparent;\n",
              "      border-right-color: var(--fill-color);\n",
              "      border-top-color: var(--fill-color);\n",
              "    }\n",
              "    60% {\n",
              "      border-color: transparent;\n",
              "      border-right-color: var(--fill-color);\n",
              "    }\n",
              "    80% {\n",
              "      border-color: transparent;\n",
              "      border-right-color: var(--fill-color);\n",
              "      border-bottom-color: var(--fill-color);\n",
              "    }\n",
              "    90% {\n",
              "      border-color: transparent;\n",
              "      border-bottom-color: var(--fill-color);\n",
              "    }\n",
              "  }\n",
              "</style>\n",
              "\n",
              "  <script>\n",
              "    async function quickchart(key) {\n",
              "      const quickchartButtonEl =\n",
              "        document.querySelector('#' + key + ' button');\n",
              "      quickchartButtonEl.disabled = true;  // To prevent multiple clicks.\n",
              "      quickchartButtonEl.classList.add('colab-df-spinner');\n",
              "      try {\n",
              "        const charts = await google.colab.kernel.invokeFunction(\n",
              "            'suggestCharts', [key], {});\n",
              "      } catch (error) {\n",
              "        console.error('Error during call to suggestCharts:', error);\n",
              "      }\n",
              "      quickchartButtonEl.classList.remove('colab-df-spinner');\n",
              "      quickchartButtonEl.classList.add('colab-df-quickchart-complete');\n",
              "    }\n",
              "    (() => {\n",
              "      let quickchartButtonEl =\n",
              "        document.querySelector('#df-c57460a1-e96a-4839-904a-fb61ea77ba08 button');\n",
              "      quickchartButtonEl.style.display =\n",
              "        google.colab.kernel.accessAllowed ? 'block' : 'none';\n",
              "    })();\n",
              "  </script>\n",
              "</div>\n",
              "\n",
              "    </div>\n",
              "  </div>\n"
            ],
            "application/vnd.google.colaboratory.intrinsic+json": {
              "type": "dataframe",
              "variable_name": "df_authors",
              "summary": "{\n  \"name\": \"df_authors\",\n  \"rows\": 50529,\n  \"fields\": [\n    {\n      \"column\": \"work_id\",\n      \"properties\": {\n        \"dtype\": \"category\",\n        \"num_unique_values\": 9741,\n        \"samples\": [\n          \"https://openalex.org/W2144985796\",\n          \"https://openalex.org/W1524573041\",\n          \"https://openalex.org/W1974809694\"\n        ],\n        \"semantic_type\": \"\",\n        \"description\": \"\"\n      }\n    },\n    {\n      \"column\": \"work_title\",\n      \"properties\": {\n        \"dtype\": \"category\",\n        \"num_unique_values\": 9357,\n        \"samples\": [\n          \"The Epidemiology of Major Depressive Disorder\",\n          \"Foundations of Social Theory\",\n          \"A SENSITIVITY ANALYSIS OF CROSS-COUNTRY GROWTH REGRESSIONS\"\n        ],\n        \"semantic_type\": \"\",\n        \"description\": \"\"\n      }\n    },\n    {\n      \"column\": \"author_id\",\n      \"properties\": {\n        \"dtype\": \"string\",\n        \"num_unique_values\": 37222,\n        \"samples\": [\n          \"https://openalex.org/A5057937754\",\n          \"https://openalex.org/A5064842246\",\n          \"https://openalex.org/A5031758990\"\n        ],\n        \"semantic_type\": \"\",\n        \"description\": \"\"\n      }\n    },\n    {\n      \"column\": \"author_name\",\n      \"properties\": {\n        \"dtype\": \"string\",\n        \"num_unique_values\": 36314,\n        \"samples\": [\n          \"Mary I. Dobbins\",\n          \"Dean E. McNulty\",\n          \"Hal S. Stern\"\n        ],\n        \"semantic_type\": \"\",\n        \"description\": \"\"\n      }\n    },\n    {\n      \"column\": \"author_position\",\n      \"properties\": {\n        \"dtype\": \"category\",\n        \"num_unique_values\": 3,\n        \"samples\": [\n          \"first\",\n          \"middle\",\n          \"last\"\n        ],\n        \"semantic_type\": \"\",\n        \"description\": \"\"\n      }\n    }\n  ]\n}"
            }
          },
          "metadata": {},
          "execution_count": 32
        }
      ]
    },
    {
      "cell_type": "markdown",
      "source": [
        "## Exporting Authors to CSV file"
      ],
      "metadata": {
        "id": "ysOR022kOeBs"
      }
    },
    {
      "cell_type": "code",
      "source": [
        "df_authors.to_csv(\"openalex_work_authors.csv\", index=False, encoding=\"utf-8\")\n",
        "print(\"CSV file 'openalex_work_authors.csv' has been saved!\")\n"
      ],
      "metadata": {
        "colab": {
          "base_uri": "https://localhost:8080/"
        },
        "id": "Fd3nIHt6OhzT",
        "outputId": "a09dd339-d622-4f18-8176-4689acebf04f"
      },
      "execution_count": 33,
      "outputs": [
        {
          "output_type": "stream",
          "name": "stdout",
          "text": [
            "CSV file 'openalex_work_authors.csv' has been saved!\n"
          ]
        }
      ]
    },
    {
      "cell_type": "markdown",
      "source": [
        "## Downloading"
      ],
      "metadata": {
        "id": "Tmx5wjheOnfL"
      }
    },
    {
      "cell_type": "code",
      "source": [
        "from google.colab import files\n",
        "files.download(\"openalex_work_authors.csv\")\n"
      ],
      "metadata": {
        "colab": {
          "base_uri": "https://localhost:8080/",
          "height": 17
        },
        "id": "eK65dliIOqbc",
        "outputId": "a58e9bd9-984a-4baf-8a34-4d2dfa110ccf"
      },
      "execution_count": 34,
      "outputs": [
        {
          "output_type": "display_data",
          "data": {
            "text/plain": [
              "<IPython.core.display.Javascript object>"
            ],
            "application/javascript": [
              "\n",
              "    async function download(id, filename, size) {\n",
              "      if (!google.colab.kernel.accessAllowed) {\n",
              "        return;\n",
              "      }\n",
              "      const div = document.createElement('div');\n",
              "      const label = document.createElement('label');\n",
              "      label.textContent = `Downloading \"${filename}\": `;\n",
              "      div.appendChild(label);\n",
              "      const progress = document.createElement('progress');\n",
              "      progress.max = size;\n",
              "      div.appendChild(progress);\n",
              "      document.body.appendChild(div);\n",
              "\n",
              "      const buffers = [];\n",
              "      let downloaded = 0;\n",
              "\n",
              "      const channel = await google.colab.kernel.comms.open(id);\n",
              "      // Send a message to notify the kernel that we're ready.\n",
              "      channel.send({})\n",
              "\n",
              "      for await (const message of channel.messages) {\n",
              "        // Send a message to notify the kernel that we're ready.\n",
              "        channel.send({})\n",
              "        if (message.buffers) {\n",
              "          for (const buffer of message.buffers) {\n",
              "            buffers.push(buffer);\n",
              "            downloaded += buffer.byteLength;\n",
              "            progress.value = downloaded;\n",
              "          }\n",
              "        }\n",
              "      }\n",
              "      const blob = new Blob(buffers, {type: 'application/binary'});\n",
              "      const a = document.createElement('a');\n",
              "      a.href = window.URL.createObjectURL(blob);\n",
              "      a.download = filename;\n",
              "      div.appendChild(a);\n",
              "      a.click();\n",
              "      div.remove();\n",
              "    }\n",
              "  "
            ]
          },
          "metadata": {}
        },
        {
          "output_type": "display_data",
          "data": {
            "text/plain": [
              "<IPython.core.display.Javascript object>"
            ],
            "application/javascript": [
              "download(\"download_8bb25d11-bfc8-4357-9558-8a5ecb6b5916\", \"openalex_work_authors.csv\", 8518330)"
            ]
          },
          "metadata": {}
        }
      ]
    }
  ]
}