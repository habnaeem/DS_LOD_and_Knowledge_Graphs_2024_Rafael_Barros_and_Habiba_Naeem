{
  "nbformat": 4,
  "nbformat_minor": 0,
  "metadata": {
    "colab": {
      "provenance": []
    },
    "kernelspec": {
      "name": "python3",
      "display_name": "Python 3"
    },
    "language_info": {
      "name": "python"
    }
  },
  "cells": [
    {
      "cell_type": "markdown",
      "source": [
        "# Work relationship with authors"
      ],
      "metadata": {
        "id": "HaL_FF60SHIb"
      }
    },
    {
      "cell_type": "code",
      "source": [
        "CALL db.relationshipTypes();\n"
      ],
      "metadata": {
        "id": "UmjKhqeaq3hG"
      },
      "execution_count": null,
      "outputs": []
    },
    {
      "cell_type": "code",
      "source": [
        "MATCH ()-[r:BELONGS_TO_Domain]->()\n",
        "DELETE r;"
      ],
      "metadata": {
        "id": "Pu6Ltgjvq5rz"
      },
      "execution_count": null,
      "outputs": []
    },
    {
      "cell_type": "code",
      "source": [
        "//Visualize domains for a specific work by its Work ID\n",
        "MATCH (work:Work {id: \"https://openalex.org/W2559085405\"})-[:BELONGS_TO]->(domain:Domain)\n",
        "RETURN work, domain;"
      ],
      "metadata": {
        "id": "tq6eD0Vmq895"
      },
      "execution_count": null,
      "outputs": []
    },
    {
      "cell_type": "code",
      "source": [
        "pip install requests"
      ],
      "metadata": {
        "colab": {
          "base_uri": "https://localhost:8080/"
        },
        "id": "7VTLvIwctbDr",
        "outputId": "4c44619e-55e9-4698-bad8-bfd98fcddf87"
      },
      "execution_count": 1,
      "outputs": [
        {
          "output_type": "stream",
          "name": "stdout",
          "text": [
            "Requirement already satisfied: requests in /usr/local/lib/python3.10/dist-packages (2.32.3)\n",
            "Requirement already satisfied: charset-normalizer<4,>=2 in /usr/local/lib/python3.10/dist-packages (from requests) (3.4.1)\n",
            "Requirement already satisfied: idna<4,>=2.5 in /usr/local/lib/python3.10/dist-packages (from requests) (3.10)\n",
            "Requirement already satisfied: urllib3<3,>=1.21.1 in /usr/local/lib/python3.10/dist-packages (from requests) (2.3.0)\n",
            "Requirement already satisfied: certifi>=2017.4.17 in /usr/local/lib/python3.10/dist-packages (from requests) (2024.12.14)\n"
          ]
        }
      ]
    },
    {
      "cell_type": "code",
      "source": [
        "import requests\n",
        "import csv\n",
        "\n",
        "# OpenAlex API base URL\n",
        "base_url = \"https://api.openalex.org/works\"\n",
        "\n",
        "# Define 10 Concept IDs (Example IDs; replace with actual relevant IDs)\n",
        "concept_ids = [\n",
        "    \"C144133560\",  # Machine Learning\n",
        "    \"C127313418\",  # Artificial Intelligence\n",
        "    \"C121332964\",  # Deep Learning\n",
        "    \"C154945302\",  # Data Science\n",
        "    \"C187152609\",  # Natural Language Processing\n",
        "    \"C203014093\",  # Computer Vision\n",
        "    \"C206292854\",  # Robotics\n",
        "    \"C155942298\",  # Algorithms\n",
        "    \"C136952241\",  # Bioinformatics\n",
        "    \"C176746249\"   # Computational Biology\n",
        "]\n",
        "\n",
        "# Total number of works to fetch\n",
        "num_works = 1000\n",
        "page_size = 100  # Maximum results per page (OpenAlex limit)\n",
        "\n",
        "# Combine Concept IDs into a single filter string\n",
        "concept_filter = \"|\".join(concept_ids)\n",
        "\n",
        "# Output CSV file\n",
        "output_file = \"openalex_10_concepts_works.csv\"\n",
        "\n",
        "# Function to fetch works from OpenAlex\n",
        "def fetch_works(page):\n",
        "    params = {\n",
        "        \"per_page\": page_size,\n",
        "        \"page\": page,\n",
        "        \"filter\": f\"concepts.id:{concept_filter}\"\n",
        "    }\n",
        "    response = requests.get(base_url, params=params)\n",
        "    if response.status_code == 200:\n",
        "        return response.json()[\"results\"]\n",
        "    else:\n",
        "        print(f\"Failed to fetch data for page {page}: {response.status_code}\")\n",
        "        return []\n",
        "\n",
        "# Collect data for all works\n",
        "all_works = []\n",
        "for page in range(1, (num_works // page_size) + 1):\n",
        "    works = fetch_works(page)\n",
        "    if not works:\n",
        "        break\n",
        "    all_works.extend(works)\n",
        "\n",
        "# Extract relevant fields\n",
        "data = []\n",
        "for work in all_works:\n",
        "    institutions = []\n",
        "    authors = []\n",
        "    topics = []\n",
        "    domains = []\n",
        "\n",
        "    # Extract institutions and authors\n",
        "    for authorship in work.get(\"authorships\", []):\n",
        "        institutions.extend([inst[\"display_name\"] for inst in authorship.get(\"institutions\", [])])\n",
        "        authors.append(authorship.get(\"author\", {}).get(\"display_name\", \"\"))\n",
        "\n",
        "    # Extract topics and domains\n",
        "    for concept in work.get(\"concepts\", []):\n",
        "        topics.append(concept[\"display_name\"])\n",
        "        if concept[\"level\"] == 0:  # Domains are level 0 in OpenAlex hierarchy\n",
        "            domains.append(concept[\"display_name\"])\n",
        "\n",
        "    # Add work details to the data list\n",
        "    data.append({\n",
        "        \"Work_ID\": work[\"id\"],\n",
        "        \"Work_Title\": work.get(\"title\", \"\"),\n",
        "        \"Authors\": \", \".join(authors),\n",
        "        \"Published_Year\": work.get(\"publication_year\", \"\"),\n",
        "        \"Institutions\": \", \".join(set(institutions)),\n",
        "        \"Topics\": \", \".join(set(topics)),\n",
        "        \"Domains\": \", \".join(set(domains))\n",
        "    })\n",
        "\n",
        "# Save to CSV\n",
        "with open(output_file, mode=\"w\", newline=\"\", encoding=\"utf-8\") as file:\n",
        "    writer = csv.DictWriter(file, fieldnames=[\"Work_ID\", \"Work_Title\", \"Authors\", \"Published_Year\", \"Institutions\", \"Topics\", \"Domains\"])\n",
        "    writer.writeheader()\n",
        "    writer.writerows(data)\n",
        "\n",
        "print(f\"Data saved to {output_file}\")\n"
      ],
      "metadata": {
        "colab": {
          "base_uri": "https://localhost:8080/"
        },
        "id": "dI9jYax6wkKH",
        "outputId": "21afbcc2-22e3-4df2-801c-7c551257a5f4"
      },
      "execution_count": 4,
      "outputs": [
        {
          "output_type": "stream",
          "name": "stdout",
          "text": [
            "Data saved to openalex_10_concepts_works.csv\n"
          ]
        }
      ]
    },
    {
      "cell_type": "markdown",
      "source": [
        "# Citation Data extraction"
      ],
      "metadata": {
        "id": "51roEsvnVKyM"
      }
    },
    {
      "cell_type": "code",
      "source": [
        "import requests\n",
        "import csv\n",
        "\n",
        "# OpenAlex API base URL for works\n",
        "base_url = \"https://api.openalex.org/works\"\n",
        "\n",
        "# Total number of works to fetch\n",
        "num_works = 1000\n",
        "page_size = 100  # OpenAlex limit per page\n",
        "output_file = \"openalex_works_citations.csv\"  # Output CSV file\n",
        "\n",
        "# Fetch works and their citation details\n",
        "all_data = []\n",
        "for page in range(1, (num_works // page_size) + 1):\n",
        "    params = {\n",
        "        \"per_page\": page_size,\n",
        "        \"page\": page\n",
        "    }\n",
        "    response = requests.get(base_url, params=params)\n",
        "    if response.status_code == 200:\n",
        "        results = response.json().get(\"results\", [])\n",
        "        for work in results:\n",
        "            work_id = work.get(\"id\", \"\").split(\"/\")[-1]  # Extract work ID\n",
        "            title = work.get(\"title\", \"Unknown Title\")\n",
        "            cited_by_count = work.get(\"cited_by_count\", 0)\n",
        "            cites_count = len(work.get(\"referenced_works\", []))  # Count references\n",
        "            all_data.append({\n",
        "                \"Work_ID\": work_id,\n",
        "                \"Title\": title,\n",
        "                \"Cited_By_Count\": cited_by_count,\n",
        "                \"Cites_Count\": cites_count\n",
        "            })\n",
        "    else:\n",
        "        print(f\"Failed to fetch page {page}: {response.status_code}\")\n",
        "        break\n",
        "\n",
        "# Save data to CSV\n",
        "with open(output_file, mode=\"w\", newline=\"\", encoding=\"utf-8\") as file:\n",
        "    writer = csv.DictWriter(file, fieldnames=[\"Work_ID\", \"Title\", \"Cited_By_Count\", \"Cites_Count\"])\n",
        "    writer.writeheader()\n",
        "    writer.writerows(all_data)\n",
        "\n",
        "print(f\"Data saved to {output_file}\")\n"
      ],
      "metadata": {
        "colab": {
          "base_uri": "https://localhost:8080/"
        },
        "id": "txATaOMDVKWk",
        "outputId": "1ba3b919-6a8f-443f-c0c8-4b3e82d7f97c"
      },
      "execution_count": 5,
      "outputs": [
        {
          "output_type": "stream",
          "name": "stdout",
          "text": [
            "Data saved to openalex_works_citations.csv\n"
          ]
        }
      ]
    },
    {
      "cell_type": "markdown",
      "source": [
        "# 1. Work Relationship with Author Entity"
      ],
      "metadata": {
        "id": "5C02Epy_0Zwe"
      }
    },
    {
      "cell_type": "markdown",
      "source": [
        "#### Step 1: Cypher Query to Create Work Nodes"
      ],
      "metadata": {
        "id": "LjE_C7PF2Lzq"
      }
    },
    {
      "cell_type": "code",
      "source": [
        "LOAD CSV WITH HEADERS FROM 'file:///OpenAlex_Main_Data.csv' AS row\n",
        "MERGE (work:Work {id: row.Work_ID})\n",
        "SET work.title = row.Work_Title"
      ],
      "metadata": {
        "id": "vlPA964r0ZIX"
      },
      "execution_count": null,
      "outputs": []
    },
    {
      "cell_type": "markdown",
      "source": [
        "#### Step 2: Create Nodes for Authors"
      ],
      "metadata": {
        "id": "NewseV072fWm"
      }
    },
    {
      "cell_type": "code",
      "source": [
        "LOAD CSV WITH HEADERS FROM 'file:///OpenAlex_Main_Data.csv' AS row\n",
        "WITH row, SPLIT(row.Authors, \",\") AS authors\n",
        "UNWIND authors AS author\n",
        "MERGE (a:Author {name: TRIM(author)})"
      ],
      "metadata": {
        "id": "iJymR_222kY_"
      },
      "execution_count": null,
      "outputs": []
    },
    {
      "cell_type": "markdown",
      "source": [
        "#### Step 3: Create Relationships Between Work and Authors"
      ],
      "metadata": {
        "id": "ZC79oL5h2uZD"
      }
    },
    {
      "cell_type": "code",
      "source": [
        "LOAD CSV WITH HEADERS FROM 'file:///OpenAlex_Main_Data.csv' AS row\n",
        "WITH row, SPLIT(row.Authors, \",\") AS authors\n",
        "UNWIND authors AS author\n",
        "MATCH (work:Work {id: row.Work_ID})\n",
        "MERGE (a:Author {name: TRIM(author)})\n",
        "MERGE (work)-[:AUTHORIZED_BY]->(a)\n"
      ],
      "metadata": {
        "id": "aV6T5HgS2uCE"
      },
      "execution_count": null,
      "outputs": []
    },
    {
      "cell_type": "markdown",
      "source": [
        "#### Step 4: Visualizing the work and Authors relationship"
      ],
      "metadata": {
        "id": "xVsFmiCe3JnQ"
      }
    },
    {
      "cell_type": "code",
      "source": [
        "MATCH (work:Work)-[:AUTHORIZED_BY]->(author:Author)\n",
        "RETURN work, author\n",
        "LIMIT 100"
      ],
      "metadata": {
        "id": "sv6ByYAV3UoE"
      },
      "execution_count": null,
      "outputs": []
    },
    {
      "cell_type": "markdown",
      "source": [
        "# 2. Work Relationship with Published year"
      ],
      "metadata": {
        "id": "_HMyyjli9lak"
      }
    },
    {
      "cell_type": "markdown",
      "source": [
        "#### Step 5: Create Year nodes\n"
      ],
      "metadata": {
        "id": "hdmTMOWu_OHR"
      }
    },
    {
      "cell_type": "code",
      "source": [
        "LOAD CSV WITH HEADERS FROM 'file:///OpenAlex_Main_Data.csv' AS row\n",
        "WITH row WHERE row.Published_Year IS NOT NULL\n",
        "MERGE (year:Year {year: row.Published_Year})\n"
      ],
      "metadata": {
        "id": "X4byc7t8_SPo"
      },
      "execution_count": null,
      "outputs": []
    },
    {
      "cell_type": "markdown",
      "source": [
        "#### Step 6: Create Work and Year relationship"
      ],
      "metadata": {
        "id": "m5Yygbh2_Tc9"
      }
    },
    {
      "cell_type": "code",
      "source": [
        "LOAD CSV WITH HEADERS FROM 'file:///OpenAlex_Main_Data.csv' AS row\n",
        "WITH row WHERE row.Published_Year IS NOT NULL\n",
        "MATCH (work:Work {id: row.Work_ID})\n",
        "MERGE (year:Year {year: row.Published_Year})\n",
        "MERGE (work)-[:PUBLISHED_IN]->(year)"
      ],
      "metadata": {
        "id": "wtzeh9mz_fhA"
      },
      "execution_count": null,
      "outputs": []
    },
    {
      "cell_type": "markdown",
      "source": [
        "#### Step 7: Visualizing Work and Year relationship"
      ],
      "metadata": {
        "id": "g6uzf6aj_ZI-"
      }
    },
    {
      "cell_type": "code",
      "source": [
        "MATCH (work:Work)-[:PUBLISHED_IN]->(year:Year)\n",
        "RETURN work, year\n",
        "LIMIT 10"
      ],
      "metadata": {
        "id": "tgA_XEPz_inu"
      },
      "execution_count": null,
      "outputs": []
    },
    {
      "cell_type": "markdown",
      "source": [
        "# 3. Authors affiliation relationship with Institutions"
      ],
      "metadata": {
        "id": "hcvSs-QBAQpF"
      }
    },
    {
      "cell_type": "markdown",
      "source": [
        "#### Step 7: Create Nodes for Institutions"
      ],
      "metadata": {
        "id": "S2a519LGBFLw"
      }
    },
    {
      "cell_type": "code",
      "source": [
        "LOAD CSV WITH HEADERS FROM 'file:///OpenAlex_Main_Data.csv' AS row\n",
        "WITH row, SPLIT(row.Institutions, \",\") AS institutions\n",
        "UNWIND institutions AS institution\n",
        "MERGE (inst:Institution {name: TRIM(institution)})"
      ],
      "metadata": {
        "id": "aWQg2_gRBuVb"
      },
      "execution_count": null,
      "outputs": []
    },
    {
      "cell_type": "markdown",
      "source": [
        "#### Step 8: Create Relationships Between Authors and Institutions"
      ],
      "metadata": {
        "id": "tPndwkezBf1T"
      }
    },
    {
      "cell_type": "code",
      "source": [
        "LOAD CSV WITH HEADERS FROM 'file:///OpenAlex_Main_Data.csv' AS row\n",
        "WITH row, SPLIT(row.Authors, \",\") AS authors, SPLIT(row.Institutions, \",\") AS institutions\n",
        "UNWIND authors AS author\n",
        "UNWIND institutions AS institution\n",
        "MATCH (a:Author {name: TRIM(author)})\n",
        "MERGE (inst:Institution {name: TRIM(institution)})\n",
        "MERGE (a)-[:AFFILIATED_WITH]->(inst)\n"
      ],
      "metadata": {
        "id": "ZVQRRqLmDD31"
      },
      "execution_count": null,
      "outputs": []
    },
    {
      "cell_type": "markdown",
      "source": [
        "####  Step 9: Visualize the Author-Institution Relationship"
      ],
      "metadata": {
        "id": "8cNE3SjnBoHy"
      }
    },
    {
      "cell_type": "code",
      "source": [
        "MATCH (author:Author)-[:AFFILIATED_WITH]->(inst:Institution)\n",
        "RETURN author, inst\n",
        "LIMIT 100\n"
      ],
      "metadata": {
        "id": "CSIwcI6xDE1a"
      },
      "execution_count": null,
      "outputs": []
    },
    {
      "cell_type": "markdown",
      "source": [
        "# 4. Work relationship with Domain"
      ],
      "metadata": {
        "id": "9M09DbWYFJKg"
      }
    },
    {
      "cell_type": "markdown",
      "source": [
        "#### Step 10: Create Nodes for Domains"
      ],
      "metadata": {
        "id": "lutUks62QiE8"
      }
    },
    {
      "cell_type": "code",
      "source": [
        "LOAD CSV WITH HEADERS FROM 'file:///OpenAlex_Main_Data.csv' AS row\n",
        "WITH SPLIT(row.Domains, \",\") AS domains\n",
        "UNWIND domains AS domain\n",
        "MERGE (d:Domain {name: TRIM(domain)})"
      ],
      "metadata": {
        "id": "kfiJhdLjQPT5"
      },
      "execution_count": null,
      "outputs": []
    },
    {
      "cell_type": "markdown",
      "source": [
        "#### Step 11: Create Relationships Between Work and Domain"
      ],
      "metadata": {
        "id": "PL2TMeLSQicS"
      }
    },
    {
      "cell_type": "code",
      "source": [
        "LOAD CSV WITH HEADERS FROM 'file:///OpenAlex_Main_Data.csv' AS row\n",
        "WITH row, SPLIT(row.Domains, \",\") AS domains\n",
        "UNWIND domains AS domain\n",
        "MATCH (work:Work {id: row.Work_ID})\n",
        "MERGE (d:Domain {name: TRIM(domain)})\n",
        "MERGE (work)-[:BELONGS_TO]->(d)"
      ],
      "metadata": {
        "id": "OEJrEmeqQR95"
      },
      "execution_count": null,
      "outputs": []
    },
    {
      "cell_type": "markdown",
      "source": [
        "#### Step 12: Visualize Relationships Between Work and Domain"
      ],
      "metadata": {
        "id": "c1nH2S8MQ1kZ"
      }
    },
    {
      "cell_type": "code",
      "source": [
        "MATCH (work:Work)-[:BELONGS_TO]->(domain:Domain)\n",
        "WHERE domain.name IN [\"Art\", \"Materials science\", \"Business\"]\n",
        "RETURN work, domain\n",
        "LIMIT 300"
      ],
      "metadata": {
        "id": "NPtOZCIOQXKz"
      },
      "execution_count": null,
      "outputs": []
    },
    {
      "cell_type": "markdown",
      "source": [
        "# 5. Work relationship with Topics"
      ],
      "metadata": {
        "id": "51UaO3_gFYzO"
      }
    },
    {
      "cell_type": "markdown",
      "source": [
        "#### Step 13: Create Nodes for Topics"
      ],
      "metadata": {
        "id": "uRf0UBP1SCbY"
      }
    },
    {
      "cell_type": "code",
      "source": [
        "LOAD CSV WITH HEADERS FROM 'file:///OpenAlex_Main_Data.csv' AS row\n",
        "WITH SPLIT(row.Topics, \",\") AS topics\n",
        "UNWIND topics AS topic\n",
        "MERGE (t:Topic {name: TRIM(topic)})"
      ],
      "metadata": {
        "id": "NnPyNWT_SBzJ"
      },
      "execution_count": null,
      "outputs": []
    },
    {
      "cell_type": "markdown",
      "source": [
        "#### Step 14: Create Relationships Between Work and Topics"
      ],
      "metadata": {
        "id": "syo7ZAJISFXI"
      }
    },
    {
      "cell_type": "code",
      "source": [
        "LOAD CSV WITH HEADERS FROM 'file:///OpenAlex_Main_Data.csv' AS row\n",
        "WITH row, SPLIT(row.Topics, \",\") AS topics\n",
        "UNWIND topics AS topic\n",
        "MATCH (work:Work {id: row.Work_ID})\n",
        "MERGE (t:Topic {name: TRIM(topic)})\n",
        "MERGE (work)-[:HAS_TOPIC]->(t)"
      ],
      "metadata": {
        "id": "HR2GgashSGE3"
      },
      "execution_count": null,
      "outputs": []
    },
    {
      "cell_type": "markdown",
      "source": [
        "#### Step 15: Visualize Relationships Between Work and Topics"
      ],
      "metadata": {
        "id": "vnAJRgwbSFsg"
      }
    },
    {
      "cell_type": "code",
      "source": [
        "MATCH (work:Work)-[:HAS_TOPIC]->(topic:Topic)\n",
        "RETURN work, topic\n",
        "LIMIT 150"
      ],
      "metadata": {
        "id": "j4jyBgkPSGjp"
      },
      "execution_count": null,
      "outputs": []
    },
    {
      "cell_type": "markdown",
      "source": [
        "# Example query to view knowledge graph of a single work."
      ],
      "metadata": {
        "id": "d1C8OdfATu0z"
      }
    },
    {
      "cell_type": "code",
      "source": [
        "MATCH (work:Work {id: \"https://openalex.org/W2128635872\"})\n",
        "OPTIONAL MATCH (work)-[:AUTHORIZED_BY]->(author:Author)\n",
        "OPTIONAL MATCH (work)-[:PUBLISHED_IN]->(year:Year)\n",
        "OPTIONAL MATCH (author)-[:AFFILIATED_WITH]->(institution:Institution)\n",
        "OPTIONAL MATCH (work)-[:BELONGS_TO]->(domain:Domain)\n",
        "OPTIONAL MATCH (work)-[:HAS_TOPIC]->(topic:Topic)\n",
        "RETURN work, author, year, institution, domain, topic"
      ],
      "metadata": {
        "id": "PAQpqBYGT1xG"
      },
      "execution_count": null,
      "outputs": []
    }
  ]
}