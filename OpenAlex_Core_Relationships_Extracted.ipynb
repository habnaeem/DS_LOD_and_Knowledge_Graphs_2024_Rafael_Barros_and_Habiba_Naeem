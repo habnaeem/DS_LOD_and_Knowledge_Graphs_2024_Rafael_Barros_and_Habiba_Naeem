{
  "nbformat": 4,
  "nbformat_minor": 0,
  "metadata": {
    "colab": {
      "provenance": [],
      "authorship_tag": "ABX9TyNj2F0weW4CfYqEzaxgpG4L",
      "include_colab_link": true
    },
    "kernelspec": {
      "name": "python3",
      "display_name": "Python 3"
    },
    "language_info": {
      "name": "python"
    }
  },
  "cells": [
    {
      "cell_type": "markdown",
      "metadata": {
        "id": "view-in-github",
        "colab_type": "text"
      },
      "source": [
        "<a href=\"https://colab.research.google.com/github/rafabarros95/DS_LOD_and_Knowledge_Graphs_2024_Rafael_Barros_and_Habiba_Naeem/blob/main/OpenAlex_Core_Relationships_Extracted.ipynb\" target=\"_parent\"><img src=\"https://colab.research.google.com/assets/colab-badge.svg\" alt=\"Open In Colab\"/></a>"
      ]
    },
    {
      "cell_type": "code",
      "execution_count": 4,
      "metadata": {
        "colab": {
          "base_uri": "https://localhost:8080/"
        },
        "id": "a5UdX94lC2cs",
        "outputId": "da2c7c57-66d8-47cc-e5c4-01e89948218d",
        "collapsed": true
      },
      "outputs": [
        {
          "output_type": "stream",
          "name": "stdout",
          "text": [
            "Requirement already satisfied: requests in /usr/local/lib/python3.10/dist-packages (2.32.3)\n",
            "Requirement already satisfied: pandas in /usr/local/lib/python3.10/dist-packages (2.2.2)\n",
            "Requirement already satisfied: charset-normalizer<4,>=2 in /usr/local/lib/python3.10/dist-packages (from requests) (3.4.1)\n",
            "Requirement already satisfied: idna<4,>=2.5 in /usr/local/lib/python3.10/dist-packages (from requests) (3.10)\n",
            "Requirement already satisfied: urllib3<3,>=1.21.1 in /usr/local/lib/python3.10/dist-packages (from requests) (2.3.0)\n",
            "Requirement already satisfied: certifi>=2017.4.17 in /usr/local/lib/python3.10/dist-packages (from requests) (2024.12.14)\n",
            "Requirement already satisfied: numpy>=1.22.4 in /usr/local/lib/python3.10/dist-packages (from pandas) (1.26.4)\n",
            "Requirement already satisfied: python-dateutil>=2.8.2 in /usr/local/lib/python3.10/dist-packages (from pandas) (2.8.2)\n",
            "Requirement already satisfied: pytz>=2020.1 in /usr/local/lib/python3.10/dist-packages (from pandas) (2024.2)\n",
            "Requirement already satisfied: tzdata>=2022.7 in /usr/local/lib/python3.10/dist-packages (from pandas) (2024.2)\n",
            "Requirement already satisfied: six>=1.5 in /usr/local/lib/python3.10/dist-packages (from python-dateutil>=2.8.2->pandas) (1.17.0)\n"
          ]
        }
      ],
      "source": [
        "!pip install requests pandas"
      ]
    },
    {
      "cell_type": "markdown",
      "source": [
        "## Importing some Dependencies"
      ],
      "metadata": {
        "id": "1YoiAdjOrkov"
      }
    },
    {
      "cell_type": "code",
      "source": [
        "import requests\n",
        "import pandas as pd\n",
        "import time\n",
        "from google.colab import files"
      ],
      "metadata": {
        "id": "dFDQMAPrXChS"
      },
      "execution_count": 3,
      "outputs": []
    },
    {
      "cell_type": "markdown",
      "source": [
        "## Function to fetch 5000 works from OpenAlex API"
      ],
      "metadata": {
        "id": "FjQMnbMBropM"
      }
    },
    {
      "cell_type": "code",
      "source": [
        "def get_works(page=1, per_page=200):\n",
        "    \"\"\"\n",
        "    Retrieves a batch of Works from the OpenAlex API for the given page.\n",
        "    Returns the 'results' list from the API response.\n",
        "    \"\"\"\n",
        "    base_url = \"https://api.openalex.org/works\"\n",
        "    params = {\n",
        "        \"page\": page,\n",
        "        \"per_page\": per_page\n",
        "    }\n",
        "    try:\n",
        "        resp = requests.get(base_url, params=params)\n",
        "        resp.raise_for_status()\n",
        "        data = resp.json()\n",
        "        return data.get(\"results\", [])\n",
        "    except Exception as e:\n",
        "        print(f\"Error fetching page {page}: {str(e)}\")\n",
        "        return []\n"
      ],
      "metadata": {
        "id": "YmZ7e4MiXFIw"
      },
      "execution_count": 1,
      "outputs": []
    },
    {
      "cell_type": "markdown",
      "source": [
        "## Retrieving the Data"
      ],
      "metadata": {
        "id": "ceJPs9_ar7cs"
      }
    },
    {
      "cell_type": "code",
      "source": [
        "all_works = []\n",
        "num_pages = 25    # ~5,000 works, since 25 x 200 = 5,000\n",
        "per_page = 200\n",
        "\n",
        "for p in range(1, num_pages + 1):\n",
        "    works_batch = get_works(page=p, per_page=per_page)\n",
        "    if not works_batch:\n",
        "        break  # stop if there's an error or no data\n",
        "    all_works.extend(works_batch)\n",
        "    time.sleep(0.2)\n",
        "\n",
        "print(f\"Total works retrieved: {len(all_works)}\")\n"
      ],
      "metadata": {
        "colab": {
          "base_uri": "https://localhost:8080/"
        },
        "id": "4rImqe6am8Ls",
        "outputId": "f693831c-6eaf-44d5-c852-ff813e993e36"
      },
      "execution_count": 5,
      "outputs": [
        {
          "output_type": "stream",
          "name": "stdout",
          "text": [
            "Total works retrieved: 5000\n"
          ]
        }
      ]
    },
    {
      "cell_type": "markdown",
      "source": [
        "## Core Relationships extracted"
      ],
      "metadata": {
        "id": "RTaxGw3tsA1L"
      }
    },
    {
      "cell_type": "code",
      "source": [
        "triples = []  # will hold tuples of (subject, relationship, object)\n",
        "\n",
        "for work in all_works:\n",
        "    work_id = work.get(\"id\")  # e.g. \"https://openalex.org/W123456789\"\n",
        "    if not work_id:\n",
        "        continue\n",
        "\n",
        "    # 1. Work CITES Work ( Core Relationship )\n",
        "    referenced_works = work.get(\"referenced_works\", [])\n",
        "    for ref_id in referenced_works:\n",
        "        triples.append((work_id, \"CITES\", ref_id))\n",
        "\n",
        "    # 2. Work AUTHORED_BY Author ( Core Relationship )\n",
        "    authorships = work.get(\"authorships\", [])\n",
        "    for auth in authorships:\n",
        "        author_id = auth.get(\"author\", {}).get(\"id\")\n",
        "        if author_id:\n",
        "            triples.append((work_id, \"AUTHORED_BY\", author_id))\n",
        "\n",
        "        # 3. Work AFFILIATED_WITH Institution ( Core Relationship )\n",
        "        institutions = auth.get(\"institutions\", [])\n",
        "        for inst in institutions:\n",
        "            inst_id = inst.get(\"id\")\n",
        "            if inst_id:\n",
        "                triples.append((work_id, \"AFFILIATED_WITH\", inst_id))\n",
        "\n",
        "    # 4. Work PUBLISHED_IN Venue ( Core Relationship )\n",
        "    host_venue = work.get(\"host_venue\", {})\n",
        "    venue_id = host_venue.get(\"id\")\n",
        "    if venue_id:\n",
        "        triples.append((work_id, \"PUBLISHED_IN\", venue_id))\n",
        "\n",
        "    # 5. Work HAS_CONCEPT Concept ( Core Relationship )\n",
        "    concepts = work.get(\"concepts\", [])\n",
        "    for concept in concepts:\n",
        "        concept_id = concept.get(\"id\")\n",
        "        if concept_id:\n",
        "            triples.append((work_id, \"HAS_CONCEPT\", concept_id))\n"
      ],
      "metadata": {
        "id": "xRxw37yBncBu"
      },
      "execution_count": 7,
      "outputs": []
    },
    {
      "cell_type": "markdown",
      "source": [
        "## Cleaning and Exporting the Data"
      ],
      "metadata": {
        "id": "Cw5-VMgFsZxs"
      }
    },
    {
      "cell_type": "code",
      "source": [
        "# we have covered as triple: (subject-relationship-object)\n",
        "\n",
        "# Build a DataFrame\n",
        "df_triples = pd.DataFrame(triples, columns=[\"subject\", \"relationship\", \"object\"])\n",
        "\n",
        "# Remove duplicates\n",
        "df_triples.drop_duplicates(inplace=True)\n",
        "\n",
        "# Drop rows with None/NaN\n",
        "df_triples.dropna(subset=[\"subject\", \"relationship\", \"object\"], inplace=True)\n",
        "\n",
        "# Show summary\n",
        "print(\"Number of relationship records:\", len(df_triples))\n",
        "df_triples.head(10)\n"
      ],
      "metadata": {
        "colab": {
          "base_uri": "https://localhost:8080/",
          "height": 380
        },
        "id": "pM0RPTVonoYF",
        "outputId": "333a105c-70de-4fe4-d517-8e233e8a07d5"
      },
      "execution_count": 8,
      "outputs": [
        {
          "output_type": "stream",
          "name": "stdout",
          "text": [
            "Number of relationship records: 348565\n"
          ]
        },
        {
          "output_type": "execute_result",
          "data": {
            "text/plain": [
              "                            subject relationship  \\\n",
              "0  https://openalex.org/W1775749144        CITES   \n",
              "1  https://openalex.org/W1775749144        CITES   \n",
              "2  https://openalex.org/W1775749144        CITES   \n",
              "3  https://openalex.org/W1775749144        CITES   \n",
              "4  https://openalex.org/W1775749144        CITES   \n",
              "5  https://openalex.org/W1775749144        CITES   \n",
              "6  https://openalex.org/W1775749144        CITES   \n",
              "7  https://openalex.org/W1775749144        CITES   \n",
              "8  https://openalex.org/W1775749144        CITES   \n",
              "9  https://openalex.org/W1775749144        CITES   \n",
              "\n",
              "                             object  \n",
              "0  https://openalex.org/W1507976594  \n",
              "1  https://openalex.org/W1515052776  \n",
              "2  https://openalex.org/W1535643256  \n",
              "3  https://openalex.org/W1540384225  \n",
              "4  https://openalex.org/W1557790601  \n",
              "5  https://openalex.org/W1573055659  \n",
              "6  https://openalex.org/W1576013682  \n",
              "7   https://openalex.org/W195762992  \n",
              "8  https://openalex.org/W1979011732  \n",
              "9  https://openalex.org/W1979607356  "
            ],
            "text/html": [
              "\n",
              "  <div id=\"df-0b5be6d1-288d-4a99-bd30-f91c57425e91\" class=\"colab-df-container\">\n",
              "    <div>\n",
              "<style scoped>\n",
              "    .dataframe tbody tr th:only-of-type {\n",
              "        vertical-align: middle;\n",
              "    }\n",
              "\n",
              "    .dataframe tbody tr th {\n",
              "        vertical-align: top;\n",
              "    }\n",
              "\n",
              "    .dataframe thead th {\n",
              "        text-align: right;\n",
              "    }\n",
              "</style>\n",
              "<table border=\"1\" class=\"dataframe\">\n",
              "  <thead>\n",
              "    <tr style=\"text-align: right;\">\n",
              "      <th></th>\n",
              "      <th>subject</th>\n",
              "      <th>relationship</th>\n",
              "      <th>object</th>\n",
              "    </tr>\n",
              "  </thead>\n",
              "  <tbody>\n",
              "    <tr>\n",
              "      <th>0</th>\n",
              "      <td>https://openalex.org/W1775749144</td>\n",
              "      <td>CITES</td>\n",
              "      <td>https://openalex.org/W1507976594</td>\n",
              "    </tr>\n",
              "    <tr>\n",
              "      <th>1</th>\n",
              "      <td>https://openalex.org/W1775749144</td>\n",
              "      <td>CITES</td>\n",
              "      <td>https://openalex.org/W1515052776</td>\n",
              "    </tr>\n",
              "    <tr>\n",
              "      <th>2</th>\n",
              "      <td>https://openalex.org/W1775749144</td>\n",
              "      <td>CITES</td>\n",
              "      <td>https://openalex.org/W1535643256</td>\n",
              "    </tr>\n",
              "    <tr>\n",
              "      <th>3</th>\n",
              "      <td>https://openalex.org/W1775749144</td>\n",
              "      <td>CITES</td>\n",
              "      <td>https://openalex.org/W1540384225</td>\n",
              "    </tr>\n",
              "    <tr>\n",
              "      <th>4</th>\n",
              "      <td>https://openalex.org/W1775749144</td>\n",
              "      <td>CITES</td>\n",
              "      <td>https://openalex.org/W1557790601</td>\n",
              "    </tr>\n",
              "    <tr>\n",
              "      <th>5</th>\n",
              "      <td>https://openalex.org/W1775749144</td>\n",
              "      <td>CITES</td>\n",
              "      <td>https://openalex.org/W1573055659</td>\n",
              "    </tr>\n",
              "    <tr>\n",
              "      <th>6</th>\n",
              "      <td>https://openalex.org/W1775749144</td>\n",
              "      <td>CITES</td>\n",
              "      <td>https://openalex.org/W1576013682</td>\n",
              "    </tr>\n",
              "    <tr>\n",
              "      <th>7</th>\n",
              "      <td>https://openalex.org/W1775749144</td>\n",
              "      <td>CITES</td>\n",
              "      <td>https://openalex.org/W195762992</td>\n",
              "    </tr>\n",
              "    <tr>\n",
              "      <th>8</th>\n",
              "      <td>https://openalex.org/W1775749144</td>\n",
              "      <td>CITES</td>\n",
              "      <td>https://openalex.org/W1979011732</td>\n",
              "    </tr>\n",
              "    <tr>\n",
              "      <th>9</th>\n",
              "      <td>https://openalex.org/W1775749144</td>\n",
              "      <td>CITES</td>\n",
              "      <td>https://openalex.org/W1979607356</td>\n",
              "    </tr>\n",
              "  </tbody>\n",
              "</table>\n",
              "</div>\n",
              "    <div class=\"colab-df-buttons\">\n",
              "\n",
              "  <div class=\"colab-df-container\">\n",
              "    <button class=\"colab-df-convert\" onclick=\"convertToInteractive('df-0b5be6d1-288d-4a99-bd30-f91c57425e91')\"\n",
              "            title=\"Convert this dataframe to an interactive table.\"\n",
              "            style=\"display:none;\">\n",
              "\n",
              "  <svg xmlns=\"http://www.w3.org/2000/svg\" height=\"24px\" viewBox=\"0 -960 960 960\">\n",
              "    <path d=\"M120-120v-720h720v720H120Zm60-500h600v-160H180v160Zm220 220h160v-160H400v160Zm0 220h160v-160H400v160ZM180-400h160v-160H180v160Zm440 0h160v-160H620v160ZM180-180h160v-160H180v160Zm440 0h160v-160H620v160Z\"/>\n",
              "  </svg>\n",
              "    </button>\n",
              "\n",
              "  <style>\n",
              "    .colab-df-container {\n",
              "      display:flex;\n",
              "      gap: 12px;\n",
              "    }\n",
              "\n",
              "    .colab-df-convert {\n",
              "      background-color: #E8F0FE;\n",
              "      border: none;\n",
              "      border-radius: 50%;\n",
              "      cursor: pointer;\n",
              "      display: none;\n",
              "      fill: #1967D2;\n",
              "      height: 32px;\n",
              "      padding: 0 0 0 0;\n",
              "      width: 32px;\n",
              "    }\n",
              "\n",
              "    .colab-df-convert:hover {\n",
              "      background-color: #E2EBFA;\n",
              "      box-shadow: 0px 1px 2px rgba(60, 64, 67, 0.3), 0px 1px 3px 1px rgba(60, 64, 67, 0.15);\n",
              "      fill: #174EA6;\n",
              "    }\n",
              "\n",
              "    .colab-df-buttons div {\n",
              "      margin-bottom: 4px;\n",
              "    }\n",
              "\n",
              "    [theme=dark] .colab-df-convert {\n",
              "      background-color: #3B4455;\n",
              "      fill: #D2E3FC;\n",
              "    }\n",
              "\n",
              "    [theme=dark] .colab-df-convert:hover {\n",
              "      background-color: #434B5C;\n",
              "      box-shadow: 0px 1px 3px 1px rgba(0, 0, 0, 0.15);\n",
              "      filter: drop-shadow(0px 1px 2px rgba(0, 0, 0, 0.3));\n",
              "      fill: #FFFFFF;\n",
              "    }\n",
              "  </style>\n",
              "\n",
              "    <script>\n",
              "      const buttonEl =\n",
              "        document.querySelector('#df-0b5be6d1-288d-4a99-bd30-f91c57425e91 button.colab-df-convert');\n",
              "      buttonEl.style.display =\n",
              "        google.colab.kernel.accessAllowed ? 'block' : 'none';\n",
              "\n",
              "      async function convertToInteractive(key) {\n",
              "        const element = document.querySelector('#df-0b5be6d1-288d-4a99-bd30-f91c57425e91');\n",
              "        const dataTable =\n",
              "          await google.colab.kernel.invokeFunction('convertToInteractive',\n",
              "                                                    [key], {});\n",
              "        if (!dataTable) return;\n",
              "\n",
              "        const docLinkHtml = 'Like what you see? Visit the ' +\n",
              "          '<a target=\"_blank\" href=https://colab.research.google.com/notebooks/data_table.ipynb>data table notebook</a>'\n",
              "          + ' to learn more about interactive tables.';\n",
              "        element.innerHTML = '';\n",
              "        dataTable['output_type'] = 'display_data';\n",
              "        await google.colab.output.renderOutput(dataTable, element);\n",
              "        const docLink = document.createElement('div');\n",
              "        docLink.innerHTML = docLinkHtml;\n",
              "        element.appendChild(docLink);\n",
              "      }\n",
              "    </script>\n",
              "  </div>\n",
              "\n",
              "\n",
              "<div id=\"df-c269827f-034f-40bd-b65c-8bfd82499b72\">\n",
              "  <button class=\"colab-df-quickchart\" onclick=\"quickchart('df-c269827f-034f-40bd-b65c-8bfd82499b72')\"\n",
              "            title=\"Suggest charts\"\n",
              "            style=\"display:none;\">\n",
              "\n",
              "<svg xmlns=\"http://www.w3.org/2000/svg\" height=\"24px\"viewBox=\"0 0 24 24\"\n",
              "     width=\"24px\">\n",
              "    <g>\n",
              "        <path d=\"M19 3H5c-1.1 0-2 .9-2 2v14c0 1.1.9 2 2 2h14c1.1 0 2-.9 2-2V5c0-1.1-.9-2-2-2zM9 17H7v-7h2v7zm4 0h-2V7h2v10zm4 0h-2v-4h2v4z\"/>\n",
              "    </g>\n",
              "</svg>\n",
              "  </button>\n",
              "\n",
              "<style>\n",
              "  .colab-df-quickchart {\n",
              "      --bg-color: #E8F0FE;\n",
              "      --fill-color: #1967D2;\n",
              "      --hover-bg-color: #E2EBFA;\n",
              "      --hover-fill-color: #174EA6;\n",
              "      --disabled-fill-color: #AAA;\n",
              "      --disabled-bg-color: #DDD;\n",
              "  }\n",
              "\n",
              "  [theme=dark] .colab-df-quickchart {\n",
              "      --bg-color: #3B4455;\n",
              "      --fill-color: #D2E3FC;\n",
              "      --hover-bg-color: #434B5C;\n",
              "      --hover-fill-color: #FFFFFF;\n",
              "      --disabled-bg-color: #3B4455;\n",
              "      --disabled-fill-color: #666;\n",
              "  }\n",
              "\n",
              "  .colab-df-quickchart {\n",
              "    background-color: var(--bg-color);\n",
              "    border: none;\n",
              "    border-radius: 50%;\n",
              "    cursor: pointer;\n",
              "    display: none;\n",
              "    fill: var(--fill-color);\n",
              "    height: 32px;\n",
              "    padding: 0;\n",
              "    width: 32px;\n",
              "  }\n",
              "\n",
              "  .colab-df-quickchart:hover {\n",
              "    background-color: var(--hover-bg-color);\n",
              "    box-shadow: 0 1px 2px rgba(60, 64, 67, 0.3), 0 1px 3px 1px rgba(60, 64, 67, 0.15);\n",
              "    fill: var(--button-hover-fill-color);\n",
              "  }\n",
              "\n",
              "  .colab-df-quickchart-complete:disabled,\n",
              "  .colab-df-quickchart-complete:disabled:hover {\n",
              "    background-color: var(--disabled-bg-color);\n",
              "    fill: var(--disabled-fill-color);\n",
              "    box-shadow: none;\n",
              "  }\n",
              "\n",
              "  .colab-df-spinner {\n",
              "    border: 2px solid var(--fill-color);\n",
              "    border-color: transparent;\n",
              "    border-bottom-color: var(--fill-color);\n",
              "    animation:\n",
              "      spin 1s steps(1) infinite;\n",
              "  }\n",
              "\n",
              "  @keyframes spin {\n",
              "    0% {\n",
              "      border-color: transparent;\n",
              "      border-bottom-color: var(--fill-color);\n",
              "      border-left-color: var(--fill-color);\n",
              "    }\n",
              "    20% {\n",
              "      border-color: transparent;\n",
              "      border-left-color: var(--fill-color);\n",
              "      border-top-color: var(--fill-color);\n",
              "    }\n",
              "    30% {\n",
              "      border-color: transparent;\n",
              "      border-left-color: var(--fill-color);\n",
              "      border-top-color: var(--fill-color);\n",
              "      border-right-color: var(--fill-color);\n",
              "    }\n",
              "    40% {\n",
              "      border-color: transparent;\n",
              "      border-right-color: var(--fill-color);\n",
              "      border-top-color: var(--fill-color);\n",
              "    }\n",
              "    60% {\n",
              "      border-color: transparent;\n",
              "      border-right-color: var(--fill-color);\n",
              "    }\n",
              "    80% {\n",
              "      border-color: transparent;\n",
              "      border-right-color: var(--fill-color);\n",
              "      border-bottom-color: var(--fill-color);\n",
              "    }\n",
              "    90% {\n",
              "      border-color: transparent;\n",
              "      border-bottom-color: var(--fill-color);\n",
              "    }\n",
              "  }\n",
              "</style>\n",
              "\n",
              "  <script>\n",
              "    async function quickchart(key) {\n",
              "      const quickchartButtonEl =\n",
              "        document.querySelector('#' + key + ' button');\n",
              "      quickchartButtonEl.disabled = true;  // To prevent multiple clicks.\n",
              "      quickchartButtonEl.classList.add('colab-df-spinner');\n",
              "      try {\n",
              "        const charts = await google.colab.kernel.invokeFunction(\n",
              "            'suggestCharts', [key], {});\n",
              "      } catch (error) {\n",
              "        console.error('Error during call to suggestCharts:', error);\n",
              "      }\n",
              "      quickchartButtonEl.classList.remove('colab-df-spinner');\n",
              "      quickchartButtonEl.classList.add('colab-df-quickchart-complete');\n",
              "    }\n",
              "    (() => {\n",
              "      let quickchartButtonEl =\n",
              "        document.querySelector('#df-c269827f-034f-40bd-b65c-8bfd82499b72 button');\n",
              "      quickchartButtonEl.style.display =\n",
              "        google.colab.kernel.accessAllowed ? 'block' : 'none';\n",
              "    })();\n",
              "  </script>\n",
              "</div>\n",
              "\n",
              "    </div>\n",
              "  </div>\n"
            ],
            "application/vnd.google.colaboratory.intrinsic+json": {
              "type": "dataframe",
              "variable_name": "df_triples"
            }
          },
          "metadata": {},
          "execution_count": 8
        }
      ]
    },
    {
      "cell_type": "markdown",
      "source": [
        "## Saving File"
      ],
      "metadata": {
        "id": "He1-_u0rswVp"
      }
    },
    {
      "cell_type": "code",
      "source": [
        "# Save to CSV\n",
        "csv_filename = \"openalex_kg_relationships.csv\"\n",
        "df_triples.to_csv(csv_filename, index=False)\n",
        "\n",
        "# Download in Colab\n",
        "files.download(csv_filename)\n"
      ],
      "metadata": {
        "colab": {
          "base_uri": "https://localhost:8080/",
          "height": 17
        },
        "id": "5-DTILnwnxUC",
        "outputId": "ab17e400-6557-4801-9b41-4054d9168798"
      },
      "execution_count": 9,
      "outputs": [
        {
          "output_type": "display_data",
          "data": {
            "text/plain": [
              "<IPython.core.display.Javascript object>"
            ],
            "application/javascript": [
              "\n",
              "    async function download(id, filename, size) {\n",
              "      if (!google.colab.kernel.accessAllowed) {\n",
              "        return;\n",
              "      }\n",
              "      const div = document.createElement('div');\n",
              "      const label = document.createElement('label');\n",
              "      label.textContent = `Downloading \"${filename}\": `;\n",
              "      div.appendChild(label);\n",
              "      const progress = document.createElement('progress');\n",
              "      progress.max = size;\n",
              "      div.appendChild(progress);\n",
              "      document.body.appendChild(div);\n",
              "\n",
              "      const buffers = [];\n",
              "      let downloaded = 0;\n",
              "\n",
              "      const channel = await google.colab.kernel.comms.open(id);\n",
              "      // Send a message to notify the kernel that we're ready.\n",
              "      channel.send({})\n",
              "\n",
              "      for await (const message of channel.messages) {\n",
              "        // Send a message to notify the kernel that we're ready.\n",
              "        channel.send({})\n",
              "        if (message.buffers) {\n",
              "          for (const buffer of message.buffers) {\n",
              "            buffers.push(buffer);\n",
              "            downloaded += buffer.byteLength;\n",
              "            progress.value = downloaded;\n",
              "          }\n",
              "        }\n",
              "      }\n",
              "      const blob = new Blob(buffers, {type: 'application/binary'});\n",
              "      const a = document.createElement('a');\n",
              "      a.href = window.URL.createObjectURL(blob);\n",
              "      a.download = filename;\n",
              "      div.appendChild(a);\n",
              "      a.click();\n",
              "      div.remove();\n",
              "    }\n",
              "  "
            ]
          },
          "metadata": {}
        },
        {
          "output_type": "display_data",
          "data": {
            "text/plain": [
              "<IPython.core.display.Javascript object>"
            ],
            "application/javascript": [
              "download(\"download_40ee8f02-f5bf-442b-a756-22d7c68c7508\", \"openalex_kg_relationships.csv\", 25629331)"
            ]
          },
          "metadata": {}
        }
      ]
    }
  ]
}